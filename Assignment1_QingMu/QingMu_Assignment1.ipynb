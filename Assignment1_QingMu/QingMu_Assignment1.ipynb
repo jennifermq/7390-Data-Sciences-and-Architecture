{
 "cells": [
  {
   "cell_type": "markdown",
   "metadata": {},
   "source": [
    "#   Assignment 1"
   ]
  },
  {
   "cell_type": "markdown",
   "metadata": {},
   "source": [
    "#### The code in my assignement 1 has reference from the following meterials:\n",
    "http://bluewhale.cc/2016-08-21/python-data-cleaning.html\n",
    "https://www.jianshu.com/p/d9cbc9a6dc3b\n",
    "https://www.cnblogs.com/beginner-boy/p/7239696.html\n",
    "\n",
    "#### And I really appreciate TA Eugene's help."
   ]
  },
  {
   "cell_type": "markdown",
   "metadata": {},
   "source": [
    "## Part A - Cleaning and EDA"
   ]
  },
  {
   "cell_type": "markdown",
   "metadata": {},
   "source": [
    "## 1. Cleaning"
   ]
  },
  {
   "cell_type": "code",
   "execution_count": 56,
   "metadata": {
    "collapsed": true
   },
   "outputs": [],
   "source": [
    "%matplotlib inline\n",
    "import pandas as pd\n",
    "import matplotlib.pyplot as plt\n",
    "import numpy as np\n",
    "from scipy import stats\n",
    "import seaborn as sns\n",
    "import csv\n",
    "import datetime as dt"
   ]
  },
  {
   "cell_type": "markdown",
   "metadata": {},
   "source": [
    "First, load the data in csv file and take a preview.\n",
    "There was an error at first. Then I found that it was because ome data is incompleted and needs to be cleaned up. So I added the attribute error_bad_lines=False and the error is gone. But there are still many exceptions because the data is dirty."
   ]
  },
  {
   "cell_type": "code",
   "execution_count": 57,
   "metadata": {},
   "outputs": [
    {
     "name": "stderr",
     "output_type": "stream",
     "text": [
      "b'Skipping line 878: expected 11 fields, saw 12\\nSkipping line 1713: expected 11 fields, saw 12\\nSkipping line 1815: expected 11 fields, saw 12\\nSkipping line 2858: expected 11 fields, saw 12\\nSkipping line 3734: expected 11 fields, saw 12\\nSkipping line 4756: expected 11 fields, saw 12\\nSkipping line 5389: expected 11 fields, saw 12\\nSkipping line 5423: expected 11 fields, saw 12\\nSkipping line 5614: expected 11 fields, saw 12\\nSkipping line 5849: expected 11 fields, saw 12\\nSkipping line 6093: expected 11 fields, saw 12\\nSkipping line 7516: expected 11 fields, saw 12\\nSkipping line 7626: expected 11 fields, saw 12\\nSkipping line 8893: expected 11 fields, saw 12\\nSkipping line 9015: expected 11 fields, saw 12\\nSkipping line 9571: expected 11 fields, saw 12\\nSkipping line 9620: expected 11 fields, saw 12\\nSkipping line 9751: expected 11 fields, saw 12\\nSkipping line 10157: expected 11 fields, saw 12\\nSkipping line 10427: expected 11 fields, saw 12\\nSkipping line 12035: expected 11 fields, saw 12\\nSkipping line 12113: expected 11 fields, saw 12\\nSkipping line 12144: expected 11 fields, saw 12\\nSkipping line 12891: expected 11 fields, saw 12\\nSkipping line 14613: expected 11 fields, saw 12\\nSkipping line 16031: expected 11 fields, saw 12\\nSkipping line 16344: expected 11 fields, saw 12\\nSkipping line 16399: expected 11 fields, saw 12\\nSkipping line 16635: expected 11 fields, saw 12\\nSkipping line 16722: expected 11 fields, saw 12\\nSkipping line 18241: expected 11 fields, saw 12\\nSkipping line 18367: expected 11 fields, saw 12\\nSkipping line 18479: expected 11 fields, saw 12\\nSkipping line 19814: expected 11 fields, saw 12\\nSkipping line 19859: expected 11 fields, saw 12\\nSkipping line 19909: expected 11 fields, saw 12\\nSkipping line 19935: expected 11 fields, saw 12\\nSkipping line 20386: expected 11 fields, saw 12\\nSkipping line 20533: expected 11 fields, saw 12\\nSkipping line 20764: expected 11 fields, saw 12\\nSkipping line 21145: expected 11 fields, saw 12\\nSkipping line 21291: expected 11 fields, saw 12\\nSkipping line 21309: expected 11 fields, saw 12\\nSkipping line 21576: expected 11 fields, saw 12\\nSkipping line 21966: expected 11 fields, saw 12\\nSkipping line 22092: expected 11 fields, saw 12\\nSkipping line 22108: expected 11 fields, saw 12\\nSkipping line 22236: expected 11 fields, saw 12\\nSkipping line 22785: expected 11 fields, saw 12\\nSkipping line 23143: expected 11 fields, saw 12\\nSkipping line 23145: expected 11 fields, saw 12\\nSkipping line 23251: expected 11 fields, saw 12\\nSkipping line 23369: expected 11 fields, saw 12\\nSkipping line 23464: expected 11 fields, saw 12\\nSkipping line 23622: expected 11 fields, saw 12\\nSkipping line 23732: expected 11 fields, saw 12\\nSkipping line 23924: expected 11 fields, saw 12\\nSkipping line 24696: expected 11 fields, saw 12\\nSkipping line 25543: expected 11 fields, saw 12\\nSkipping line 25703: expected 11 fields, saw 12\\nSkipping line 25815: expected 11 fields, saw 12\\nSkipping line 26185: expected 11 fields, saw 12\\nSkipping line 27424: expected 11 fields, saw 12\\nSkipping line 27465: expected 11 fields, saw 12\\nSkipping line 28083: expected 11 fields, saw 12\\nSkipping line 28282: expected 11 fields, saw 12\\nSkipping line 28460: expected 11 fields, saw 12\\nSkipping line 28745: expected 11 fields, saw 12\\nSkipping line 29674: expected 11 fields, saw 12\\nSkipping line 30342: expected 11 fields, saw 12\\nSkipping line 30417: expected 11 fields, saw 12\\nSkipping line 31154: expected 11 fields, saw 12\\nSkipping line 31308: expected 11 fields, saw 12\\nSkipping line 32198: expected 11 fields, saw 12\\nSkipping line 32439: expected 11 fields, saw 12\\nSkipping line 32675: expected 11 fields, saw 12\\nSkipping line 33134: expected 11 fields, saw 12\\nSkipping line 33442: expected 11 fields, saw 12\\nSkipping line 34184: expected 11 fields, saw 12\\nSkipping line 34731: expected 11 fields, saw 12\\nSkipping line 34869: expected 11 fields, saw 12\\nSkipping line 35107: expected 11 fields, saw 12\\nSkipping line 35300: expected 11 fields, saw 12\\nSkipping line 35396: expected 11 fields, saw 12\\nSkipping line 35913: expected 11 fields, saw 12\\nSkipping line 36445: expected 11 fields, saw 12\\nSkipping line 36693: expected 11 fields, saw 12\\nSkipping line 36723: expected 11 fields, saw 12\\nSkipping line 37293: expected 11 fields, saw 12\\nSkipping line 37361: expected 11 fields, saw 12\\nSkipping line 37980: expected 11 fields, saw 12\\nSkipping line 38090: expected 11 fields, saw 12\\nSkipping line 38197: expected 11 fields, saw 12\\nSkipping line 39431: expected 11 fields, saw 12\\nSkipping line 39598: expected 11 fields, saw 12\\nSkipping line 39679: expected 11 fields, saw 12\\nSkipping line 39794: expected 11 fields, saw 12\\nSkipping line 40021: expected 11 fields, saw 12\\nSkipping line 40430: expected 11 fields, saw 12\\nSkipping line 42858: expected 11 fields, saw 12\\nSkipping line 43662: expected 11 fields, saw 12\\nSkipping line 44162: expected 11 fields, saw 12\\nSkipping line 45529: expected 11 fields, saw 12\\nSkipping line 46678: expected 11 fields, saw 12\\nSkipping line 46788: expected 11 fields, saw 12\\nSkipping line 46811: expected 11 fields, saw 12\\nSkipping line 46924: expected 11 fields, saw 12\\nSkipping line 47287: expected 11 fields, saw 12\\nSkipping line 47377: expected 11 fields, saw 12\\nSkipping line 47419: expected 11 fields, saw 12\\nSkipping line 47492: expected 11 fields, saw 12\\nSkipping line 47629: expected 11 fields, saw 12\\nSkipping line 48125: expected 11 fields, saw 12\\nSkipping line 48932: expected 11 fields, saw 12\\nSkipping line 48971: expected 11 fields, saw 12\\nSkipping line 49440: expected 11 fields, saw 12\\nSkipping line 49457: expected 11 fields, saw 12\\nSkipping line 50670: expected 11 fields, saw 12\\nSkipping line 50960: expected 11 fields, saw 12\\nSkipping line 51275: expected 11 fields, saw 12\\nSkipping line 51649: expected 11 fields, saw 12\\nSkipping line 51993: expected 11 fields, saw 12\\nSkipping line 52023: expected 11 fields, saw 12\\nSkipping line 52059: expected 11 fields, saw 12\\nSkipping line 52259: expected 11 fields, saw 12\\nSkipping line 52368: expected 11 fields, saw 12\\nSkipping line 52783: expected 11 fields, saw 12\\nSkipping line 53064: expected 11 fields, saw 12\\nSkipping line 53135: expected 11 fields, saw 12\\nSkipping line 53514: expected 11 fields, saw 12\\nSkipping line 54092: expected 11 fields, saw 12\\nSkipping line 55403: expected 11 fields, saw 12\\nSkipping line 57476: expected 11 fields, saw 12\\nSkipping line 58646: expected 11 fields, saw 12\\nSkipping line 58808: expected 11 fields, saw 12\\nSkipping line 59119: expected 11 fields, saw 12\\nSkipping line 59727: expected 11 fields, saw 12\\nSkipping line 60386: expected 11 fields, saw 12\\nSkipping line 60478: expected 11 fields, saw 12\\nSkipping line 60542: expected 11 fields, saw 12\\nSkipping line 60913: expected 11 fields, saw 12\\nSkipping line 61032: expected 11 fields, saw 12\\nSkipping line 61640: expected 11 fields, saw 12\\nSkipping line 61732: expected 11 fields, saw 12\\nSkipping line 62029: expected 11 fields, saw 12\\nSkipping line 62219: expected 11 fields, saw 12\\nSkipping line 63657: expected 11 fields, saw 12\\nSkipping line 64712: expected 11 fields, saw 12\\n'\n",
      "b'Skipping line 65881: expected 11 fields, saw 12\\nSkipping line 66093: expected 11 fields, saw 12\\nSkipping line 66095: expected 11 fields, saw 12\\nSkipping line 66476: expected 11 fields, saw 12\\nSkipping line 66549: expected 11 fields, saw 12\\nSkipping line 66550: expected 11 fields, saw 12\\nSkipping line 68102: expected 11 fields, saw 12\\nSkipping line 69441: expected 11 fields, saw 12\\nSkipping line 70104: expected 11 fields, saw 12\\nSkipping line 70452: expected 11 fields, saw 12\\nSkipping line 70642: expected 11 fields, saw 12\\nSkipping line 70644: expected 11 fields, saw 12\\nSkipping line 70716: expected 11 fields, saw 12\\nSkipping line 71345: expected 11 fields, saw 12\\nSkipping line 71634: expected 11 fields, saw 12\\nSkipping line 72091: expected 11 fields, saw 12\\nSkipping line 72119: expected 11 fields, saw 12\\nSkipping line 73543: expected 11 fields, saw 12\\nSkipping line 74654: expected 11 fields, saw 12\\nSkipping line 74785: expected 11 fields, saw 12\\nSkipping line 74918: expected 11 fields, saw 12\\nSkipping line 75062: expected 11 fields, saw 12\\nSkipping line 75346: expected 11 fields, saw 12\\nSkipping line 75416: expected 11 fields, saw 12\\nSkipping line 75677: expected 11 fields, saw 12\\nSkipping line 75833: expected 11 fields, saw 12\\nSkipping line 76117: expected 11 fields, saw 12\\nSkipping line 76834: expected 11 fields, saw 12\\nSkipping line 77540: expected 11 fields, saw 12\\nSkipping line 77568: expected 11 fields, saw 12\\nSkipping line 77607: expected 11 fields, saw 12\\nSkipping line 77871: expected 11 fields, saw 12\\nSkipping line 78117: expected 11 fields, saw 12\\nSkipping line 78526: expected 11 fields, saw 12\\nSkipping line 78605: expected 11 fields, saw 12\\nSkipping line 79151: expected 11 fields, saw 12\\nSkipping line 79945: expected 11 fields, saw 12\\nSkipping line 80156: expected 11 fields, saw 12\\nSkipping line 80328: expected 11 fields, saw 12\\nSkipping line 80382: expected 11 fields, saw 12\\nSkipping line 80421: expected 11 fields, saw 12\\nSkipping line 80503: expected 11 fields, saw 12\\nSkipping line 82071: expected 11 fields, saw 12\\nSkipping line 82566: expected 11 fields, saw 12\\nSkipping line 86123: expected 11 fields, saw 12\\nSkipping line 87218: expected 11 fields, saw 12\\nSkipping line 87457: expected 11 fields, saw 12\\nSkipping line 87579: expected 11 fields, saw 12\\n'\n",
      "D:\\ProgramData\\Anaconda3\\lib\\site-packages\\IPython\\core\\interactiveshell.py:2698: DtypeWarning: Columns (5,9) have mixed types. Specify dtype option on import or set low_memory=False.\n",
      "  interactivity=interactivity, compiler=compiler, result=result)\n"
     ]
    },
    {
     "data": {
      "text/html": [
       "<div>\n",
       "<style>\n",
       "    .dataframe thead tr:only-child th {\n",
       "        text-align: right;\n",
       "    }\n",
       "\n",
       "    .dataframe thead th {\n",
       "        text-align: left;\n",
       "    }\n",
       "\n",
       "    .dataframe tbody tr th {\n",
       "        vertical-align: top;\n",
       "    }\n",
       "</style>\n",
       "<table border=\"1\" class=\"dataframe\">\n",
       "  <thead>\n",
       "    <tr style=\"text-align: right;\">\n",
       "      <th></th>\n",
       "      <th>datetime</th>\n",
       "      <th>city</th>\n",
       "      <th>state</th>\n",
       "      <th>country</th>\n",
       "      <th>shape</th>\n",
       "      <th>duration (seconds)</th>\n",
       "      <th>duration (hours/min)</th>\n",
       "      <th>comments</th>\n",
       "      <th>date posted</th>\n",
       "      <th>latitude</th>\n",
       "      <th>longitude</th>\n",
       "    </tr>\n",
       "  </thead>\n",
       "  <tbody>\n",
       "    <tr>\n",
       "      <th>0</th>\n",
       "      <td>10/10/1949 20:30</td>\n",
       "      <td>san marcos</td>\n",
       "      <td>tx</td>\n",
       "      <td>us</td>\n",
       "      <td>cylinder</td>\n",
       "      <td>2700</td>\n",
       "      <td>45 minutes</td>\n",
       "      <td>\"This event took place in early fall around 19...</td>\n",
       "      <td>4/27/2004</td>\n",
       "      <td>29.8830556</td>\n",
       "      <td>-97.941111</td>\n",
       "    </tr>\n",
       "    <tr>\n",
       "      <th>1</th>\n",
       "      <td>10/10/1949 21:00</td>\n",
       "      <td>lackland afb</td>\n",
       "      <td>tx</td>\n",
       "      <td>NaN</td>\n",
       "      <td>light</td>\n",
       "      <td>7200</td>\n",
       "      <td>1-2 hrs</td>\n",
       "      <td>\"1949 Lackland AFB&amp;#44 TX.  Lights racing acro...</td>\n",
       "      <td>12/16/2005</td>\n",
       "      <td>29.38421</td>\n",
       "      <td>-98.581082</td>\n",
       "    </tr>\n",
       "    <tr>\n",
       "      <th>2</th>\n",
       "      <td>10/10/1955 17:00</td>\n",
       "      <td>chester (uk/england)</td>\n",
       "      <td>NaN</td>\n",
       "      <td>gb</td>\n",
       "      <td>circle</td>\n",
       "      <td>20</td>\n",
       "      <td>20 seconds</td>\n",
       "      <td>\"Green/Orange circular disc over Chester&amp;#44 E...</td>\n",
       "      <td>1/21/2008</td>\n",
       "      <td>53.2</td>\n",
       "      <td>-2.916667</td>\n",
       "    </tr>\n",
       "    <tr>\n",
       "      <th>3</th>\n",
       "      <td>10/10/1956 21:00</td>\n",
       "      <td>edna</td>\n",
       "      <td>tx</td>\n",
       "      <td>us</td>\n",
       "      <td>circle</td>\n",
       "      <td>20</td>\n",
       "      <td>1/2 hour</td>\n",
       "      <td>\"My older brother and twin sister were leaving...</td>\n",
       "      <td>1/17/2004</td>\n",
       "      <td>28.9783333</td>\n",
       "      <td>-96.645833</td>\n",
       "    </tr>\n",
       "    <tr>\n",
       "      <th>4</th>\n",
       "      <td>10/10/1960 20:00</td>\n",
       "      <td>kaneohe</td>\n",
       "      <td>hi</td>\n",
       "      <td>us</td>\n",
       "      <td>light</td>\n",
       "      <td>900</td>\n",
       "      <td>15 minutes</td>\n",
       "      <td>\"AS a Marine 1st Lt. flying an FJ4B fighter/at...</td>\n",
       "      <td>1/22/2004</td>\n",
       "      <td>21.4180556</td>\n",
       "      <td>-157.803611</td>\n",
       "    </tr>\n",
       "  </tbody>\n",
       "</table>\n",
       "</div>"
      ],
      "text/plain": [
       "           datetime                  city state country     shape  \\\n",
       "0  10/10/1949 20:30            san marcos    tx      us  cylinder   \n",
       "1  10/10/1949 21:00          lackland afb    tx     NaN     light   \n",
       "2  10/10/1955 17:00  chester (uk/england)   NaN      gb    circle   \n",
       "3  10/10/1956 21:00                  edna    tx      us    circle   \n",
       "4  10/10/1960 20:00               kaneohe    hi      us     light   \n",
       "\n",
       "  duration (seconds) duration (hours/min)  \\\n",
       "0               2700           45 minutes   \n",
       "1               7200              1-2 hrs   \n",
       "2                 20           20 seconds   \n",
       "3                 20             1/2 hour   \n",
       "4                900           15 minutes   \n",
       "\n",
       "                                            comments date posted    latitude  \\\n",
       "0  \"This event took place in early fall around 19...   4/27/2004  29.8830556   \n",
       "1  \"1949 Lackland AFB&#44 TX.  Lights racing acro...  12/16/2005    29.38421   \n",
       "2  \"Green/Orange circular disc over Chester&#44 E...   1/21/2008        53.2   \n",
       "3  \"My older brother and twin sister were leaving...   1/17/2004  28.9783333   \n",
       "4  \"AS a Marine 1st Lt. flying an FJ4B fighter/at...   1/22/2004  21.4180556   \n",
       "\n",
       "    longitude  \n",
       "0  -97.941111  \n",
       "1  -98.581082  \n",
       "2   -2.916667  \n",
       "3  -96.645833  \n",
       "4 -157.803611  "
      ]
     },
     "execution_count": 57,
     "metadata": {},
     "output_type": "execute_result"
    }
   ],
   "source": [
    "ufo = pd.read_csv(\"complete.csv\", quoting=3, error_bad_lines=False)\n",
    "ufo.head()"
   ]
  },
  {
   "cell_type": "markdown",
   "metadata": {},
   "source": [
    "#### Obviously, there are many warnings, and we need to do some clean ups to the data."
   ]
  },
  {
   "cell_type": "code",
   "execution_count": 58,
   "metadata": {},
   "outputs": [
    {
     "data": {
      "text/html": [
       "<div>\n",
       "<style>\n",
       "    .dataframe thead tr:only-child th {\n",
       "        text-align: right;\n",
       "    }\n",
       "\n",
       "    .dataframe thead th {\n",
       "        text-align: left;\n",
       "    }\n",
       "\n",
       "    .dataframe tbody tr th {\n",
       "        vertical-align: top;\n",
       "    }\n",
       "</style>\n",
       "<table border=\"1\" class=\"dataframe\">\n",
       "  <thead>\n",
       "    <tr style=\"text-align: right;\">\n",
       "      <th></th>\n",
       "      <th>longitude</th>\n",
       "    </tr>\n",
       "  </thead>\n",
       "  <tbody>\n",
       "    <tr>\n",
       "      <th>count</th>\n",
       "      <td>88679.000000</td>\n",
       "    </tr>\n",
       "    <tr>\n",
       "      <th>mean</th>\n",
       "      <td>-85.021836</td>\n",
       "    </tr>\n",
       "    <tr>\n",
       "      <th>std</th>\n",
       "      <td>41.421744</td>\n",
       "    </tr>\n",
       "    <tr>\n",
       "      <th>min</th>\n",
       "      <td>-176.658056</td>\n",
       "    </tr>\n",
       "    <tr>\n",
       "      <th>25%</th>\n",
       "      <td>-112.073333</td>\n",
       "    </tr>\n",
       "    <tr>\n",
       "      <th>50%</th>\n",
       "      <td>-87.650000</td>\n",
       "    </tr>\n",
       "    <tr>\n",
       "      <th>75%</th>\n",
       "      <td>-77.769738</td>\n",
       "    </tr>\n",
       "    <tr>\n",
       "      <th>max</th>\n",
       "      <td>178.441900</td>\n",
       "    </tr>\n",
       "  </tbody>\n",
       "</table>\n",
       "</div>"
      ],
      "text/plain": [
       "          longitude\n",
       "count  88679.000000\n",
       "mean     -85.021836\n",
       "std       41.421744\n",
       "min     -176.658056\n",
       "25%     -112.073333\n",
       "50%      -87.650000\n",
       "75%      -77.769738\n",
       "max      178.441900"
      ]
     },
     "execution_count": 58,
     "metadata": {},
     "output_type": "execute_result"
    }
   ],
   "source": [
    "ufo.describe()"
   ]
  },
  {
   "cell_type": "markdown",
   "metadata": {},
   "source": [
    "Now let's do the clean up.\n",
    "#### First, check if there are any duplicated rows.\n",
    "I found there is no duplicated data."
   ]
  },
  {
   "cell_type": "markdown",
   "metadata": {},
   "source": [
    "### 1) Duplicated Rows"
   ]
  },
  {
   "cell_type": "code",
   "execution_count": 59,
   "metadata": {},
   "outputs": [
    {
     "data": {
      "text/plain": [
       "0        False\n",
       "1        False\n",
       "2        False\n",
       "3        False\n",
       "4        False\n",
       "5        False\n",
       "6        False\n",
       "7        False\n",
       "8        False\n",
       "9        False\n",
       "10       False\n",
       "11       False\n",
       "12       False\n",
       "13       False\n",
       "14       False\n",
       "15       False\n",
       "16       False\n",
       "17       False\n",
       "18       False\n",
       "19       False\n",
       "20       False\n",
       "21       False\n",
       "22       False\n",
       "23       False\n",
       "24       False\n",
       "25       False\n",
       "26       False\n",
       "27       False\n",
       "28       False\n",
       "29       False\n",
       "         ...  \n",
       "88649    False\n",
       "88650    False\n",
       "88651    False\n",
       "88652    False\n",
       "88653    False\n",
       "88654    False\n",
       "88655    False\n",
       "88656    False\n",
       "88657    False\n",
       "88658    False\n",
       "88659    False\n",
       "88660    False\n",
       "88661    False\n",
       "88662    False\n",
       "88663    False\n",
       "88664    False\n",
       "88665    False\n",
       "88666    False\n",
       "88667    False\n",
       "88668    False\n",
       "88669    False\n",
       "88670    False\n",
       "88671    False\n",
       "88672    False\n",
       "88673    False\n",
       "88674    False\n",
       "88675    False\n",
       "88676    False\n",
       "88677    False\n",
       "88678    False\n",
       "Length: 88679, dtype: bool"
      ]
     },
     "execution_count": 59,
     "metadata": {},
     "output_type": "execute_result"
    }
   ],
   "source": [
    "ufoFrame=pd.DataFrame(ufo)\n",
    "ufoFrame.duplicated()"
   ]
  },
  {
   "cell_type": "markdown",
   "metadata": {},
   "source": [
    "### 2) Null Value"
   ]
  },
  {
   "cell_type": "markdown",
   "metadata": {},
   "source": [
    "Then, check if there are null values.\n",
    "In datetime colomn, there is no missing value."
   ]
  },
  {
   "cell_type": "code",
   "execution_count": 60,
   "metadata": {},
   "outputs": [
    {
     "data": {
      "text/plain": [
       "False    88679\n",
       "Name: datetime, dtype: int64"
      ]
     },
     "execution_count": 60,
     "metadata": {},
     "output_type": "execute_result"
    }
   ],
   "source": [
    "ufoFrame['datetime'].isnull().value_counts()"
   ]
  },
  {
   "cell_type": "markdown",
   "metadata": {},
   "source": [
    "In city column, there is no missing value either."
   ]
  },
  {
   "cell_type": "code",
   "execution_count": 61,
   "metadata": {},
   "outputs": [
    {
     "data": {
      "text/plain": [
       "False    88679\n",
       "Name: city, dtype: int64"
      ]
     },
     "execution_count": 61,
     "metadata": {},
     "output_type": "execute_result"
    }
   ],
   "source": [
    "ufoFrame['city'].isnull().value_counts()"
   ]
  },
  {
   "cell_type": "markdown",
   "metadata": {},
   "source": [
    "In state column, there are 7409 missing values. But since we also have latitude and longitude columns to tell the position, this column is less important if our analysis is not relevant to city."
   ]
  },
  {
   "cell_type": "code",
   "execution_count": 62,
   "metadata": {},
   "outputs": [
    {
     "data": {
      "text/plain": [
       "False    81270\n",
       "True      7409\n",
       "Name: state, dtype: int64"
      ]
     },
     "execution_count": 62,
     "metadata": {},
     "output_type": "execute_result"
    }
   ],
   "source": [
    "ufoFrame['state'].isnull().value_counts()"
   ]
  },
  {
   "cell_type": "markdown",
   "metadata": {},
   "source": [
    "In country column, there are 12365 missing values. But since we also have latitude and longitude columns to tell the position, this column is less important if our analysis is not relevant to country."
   ]
  },
  {
   "cell_type": "code",
   "execution_count": 63,
   "metadata": {},
   "outputs": [
    {
     "data": {
      "text/plain": [
       "False    76314\n",
       "True     12365\n",
       "Name: country, dtype: int64"
      ]
     },
     "execution_count": 63,
     "metadata": {},
     "output_type": "execute_result"
    }
   ],
   "source": [
    "ufoFrame['country'].isnull().value_counts()"
   ]
  },
  {
   "cell_type": "markdown",
   "metadata": {},
   "source": [
    "In shape column, there are 2922 missing values. "
   ]
  },
  {
   "cell_type": "code",
   "execution_count": 64,
   "metadata": {},
   "outputs": [
    {
     "data": {
      "text/plain": [
       "False    85757\n",
       "True      2922\n",
       "Name: shape, dtype: int64"
      ]
     },
     "execution_count": 64,
     "metadata": {},
     "output_type": "execute_result"
    }
   ],
   "source": [
    "ufoFrame['shape'].isnull().value_counts()"
   ]
  },
  {
   "cell_type": "markdown",
   "metadata": {},
   "source": [
    "In duration (seconds) column, there are 2 missing values."
   ]
  },
  {
   "cell_type": "code",
   "execution_count": 65,
   "metadata": {},
   "outputs": [
    {
     "data": {
      "text/plain": [
       "False    88677\n",
       "True         2\n",
       "Name: duration (seconds), dtype: int64"
      ]
     },
     "execution_count": 65,
     "metadata": {},
     "output_type": "execute_result"
    }
   ],
   "source": [
    "ufoFrame['duration (seconds)'].isnull().value_counts()"
   ]
  },
  {
   "cell_type": "markdown",
   "metadata": {},
   "source": [
    "In duration (hours/min) column, there are 3017 missing values. But since this column can be converted from duration(seconds) column, we are not going to use the data in this column. We can either filling the null values to 0, or calculate them according to duration (seconds) column."
   ]
  },
  {
   "cell_type": "code",
   "execution_count": 66,
   "metadata": {},
   "outputs": [
    {
     "data": {
      "text/plain": [
       "False    85662\n",
       "True      3017\n",
       "Name: duration (hours/min), dtype: int64"
      ]
     },
     "execution_count": 66,
     "metadata": {},
     "output_type": "execute_result"
    }
   ],
   "source": [
    "ufoFrame['duration (hours/min)'].isnull().value_counts()"
   ]
  },
  {
   "cell_type": "markdown",
   "metadata": {},
   "source": [
    "In comments column, there is no missing value."
   ]
  },
  {
   "cell_type": "code",
   "execution_count": 67,
   "metadata": {},
   "outputs": [
    {
     "data": {
      "text/plain": [
       "False    88679\n",
       "Name: comments, dtype: int64"
      ]
     },
     "execution_count": 67,
     "metadata": {},
     "output_type": "execute_result"
    }
   ],
   "source": [
    "ufoFrame['comments'].isnull().value_counts()"
   ]
  },
  {
   "cell_type": "markdown",
   "metadata": {},
   "source": [
    "In date posted column, there is no missing value."
   ]
  },
  {
   "cell_type": "code",
   "execution_count": 68,
   "metadata": {},
   "outputs": [
    {
     "data": {
      "text/plain": [
       "False    88679\n",
       "Name: date posted, dtype: int64"
      ]
     },
     "execution_count": 68,
     "metadata": {},
     "output_type": "execute_result"
    }
   ],
   "source": [
    "ufoFrame['date posted'].isnull().value_counts()"
   ]
  },
  {
   "cell_type": "markdown",
   "metadata": {},
   "source": [
    "In latitude column, there is no missing value."
   ]
  },
  {
   "cell_type": "code",
   "execution_count": 69,
   "metadata": {},
   "outputs": [
    {
     "data": {
      "text/plain": [
       "False    88679\n",
       "Name: latitude, dtype: int64"
      ]
     },
     "execution_count": 69,
     "metadata": {},
     "output_type": "execute_result"
    }
   ],
   "source": [
    "ufoFrame['latitude'].isnull().value_counts()"
   ]
  },
  {
   "cell_type": "markdown",
   "metadata": {},
   "source": [
    "In longitude column, there is no missing value."
   ]
  },
  {
   "cell_type": "code",
   "execution_count": 70,
   "metadata": {},
   "outputs": [
    {
     "data": {
      "text/plain": [
       "False    88679\n",
       "Name: longitude, dtype: int64"
      ]
     },
     "execution_count": 70,
     "metadata": {},
     "output_type": "execute_result"
    }
   ],
   "source": [
    "ufoFrame['longitude'].isnull().value_counts()"
   ]
  },
  {
   "cell_type": "markdown",
   "metadata": {},
   "source": [
    "### 3) Invalid Value"
   ]
  },
  {
   "cell_type": "markdown",
   "metadata": {},
   "source": [
    "We are done with checking missing values. Now lets cleanup the data."
   ]
  },
  {
   "cell_type": "markdown",
   "metadata": {},
   "source": [
    "First, fill the null fields in state column as 'N/A'. Then check if all fields in the column are filled."
   ]
  },
  {
   "cell_type": "code",
   "execution_count": 71,
   "metadata": {
    "collapsed": true
   },
   "outputs": [],
   "source": [
    "ufoFrame['state']=ufoFrame['state'].fillna('N/A')"
   ]
  },
  {
   "cell_type": "code",
   "execution_count": 72,
   "metadata": {},
   "outputs": [
    {
     "data": {
      "text/plain": [
       "False    88679\n",
       "Name: state, dtype: int64"
      ]
     },
     "execution_count": 72,
     "metadata": {},
     "output_type": "execute_result"
    }
   ],
   "source": [
    "ufoFrame['state'].isnull().value_counts()"
   ]
  },
  {
   "cell_type": "markdown",
   "metadata": {},
   "source": [
    "Then, fill all the null country with N/A, and check."
   ]
  },
  {
   "cell_type": "code",
   "execution_count": 73,
   "metadata": {},
   "outputs": [
    {
     "data": {
      "text/plain": [
       "False    88679\n",
       "Name: country, dtype: int64"
      ]
     },
     "execution_count": 73,
     "metadata": {},
     "output_type": "execute_result"
    }
   ],
   "source": [
    "ufoFrame['country']=ufoFrame['country'].fillna('N/A')\n",
    "ufoFrame['country'].isnull().value_counts()"
   ]
  },
  {
   "cell_type": "markdown",
   "metadata": {},
   "source": [
    "\n",
    "Then, fill all the null shape with N/A, and check."
   ]
  },
  {
   "cell_type": "code",
   "execution_count": 74,
   "metadata": {},
   "outputs": [
    {
     "data": {
      "text/plain": [
       "False    88679\n",
       "Name: shape, dtype: int64"
      ]
     },
     "execution_count": 74,
     "metadata": {},
     "output_type": "execute_result"
    }
   ],
   "source": [
    "ufoFrame['shape']=ufoFrame['shape'].fillna('N/A')\n",
    "ufoFrame['shape'].isnull().value_counts()"
   ]
  },
  {
   "cell_type": "markdown",
   "metadata": {},
   "source": [
    "Then, because we are not using the duration (hours/min) column, we can directly drop it from the data frame."
   ]
  },
  {
   "cell_type": "code",
   "execution_count": 75,
   "metadata": {
    "collapsed": true
   },
   "outputs": [],
   "source": [
    "ufoFrame= ufoFrame.drop('duration (hours/min)', 1)"
   ]
  },
  {
   "cell_type": "markdown",
   "metadata": {},
   "source": [
    "Finally, drop two rows with null duration (seconds) value."
   ]
  },
  {
   "cell_type": "code",
   "execution_count": 76,
   "metadata": {},
   "outputs": [
    {
     "data": {
      "text/plain": [
       "False    88677\n",
       "Name: duration (seconds), dtype: int64"
      ]
     },
     "execution_count": 76,
     "metadata": {},
     "output_type": "execute_result"
    }
   ],
   "source": [
    "ufoFrame=ufoFrame.dropna(axis=0, how='any', thresh=None)\n",
    "ufoFrame['duration (seconds)'].isnull().value_counts()"
   ]
  },
  {
   "cell_type": "markdown",
   "metadata": {},
   "source": [
    "#### Third, let's check if there are invalid values. If so, parse them into the right data type."
   ]
  },
  {
   "cell_type": "code",
   "execution_count": 77,
   "metadata": {
    "scrolled": true
   },
   "outputs": [
    {
     "data": {
      "text/plain": [
       "datetime               object\n",
       "city                   object\n",
       "state                  object\n",
       "country                object\n",
       "shape                  object\n",
       "duration (seconds)     object\n",
       "comments               object\n",
       "date posted            object\n",
       "latitude               object\n",
       "longitude             float64\n",
       "dtype: object"
      ]
     },
     "execution_count": 77,
     "metadata": {},
     "output_type": "execute_result"
    }
   ],
   "source": [
    "ufoFrame.dtypes"
   ]
  },
  {
   "cell_type": "code",
   "execution_count": 78,
   "metadata": {
    "collapsed": true,
    "scrolled": false
   },
   "outputs": [],
   "source": [
    "ufoFrame['datetime']=pd.to_datetime(ufoFrame['datetime'],format=\"%m/%d/%Y %H:%M\",errors='coerce')"
   ]
  },
  {
   "cell_type": "code",
   "execution_count": 79,
   "metadata": {},
   "outputs": [
    {
     "data": {
      "text/plain": [
       "0       1949-10-10 20:30:00\n",
       "1       1949-10-10 21:00:00\n",
       "2       1955-10-10 17:00:00\n",
       "3       1956-10-10 21:00:00\n",
       "4       1960-10-10 20:00:00\n",
       "5       1961-10-10 19:00:00\n",
       "6       1965-10-10 21:00:00\n",
       "7       1965-10-10 23:45:00\n",
       "8       1966-10-10 20:00:00\n",
       "9       1966-10-10 21:00:00\n",
       "10      1968-10-10 13:00:00\n",
       "11      1968-10-10 19:00:00\n",
       "12      1970-10-10 16:00:00\n",
       "13      1970-10-10 19:00:00\n",
       "14      1971-10-10 21:00:00\n",
       "15      1972-10-10 19:00:00\n",
       "16      1972-10-10 22:30:00\n",
       "17      1973-10-10 19:00:00\n",
       "18      1973-10-10 23:00:00\n",
       "19      1974-10-10 17:00:00\n",
       "20      1974-10-10 19:30:00\n",
       "21      1974-10-10 21:30:00\n",
       "22      1974-10-10 23:00:00\n",
       "23      1975-10-10 17:00:00\n",
       "24      1976-10-10 20:30:00\n",
       "25      1976-10-10 22:00:00\n",
       "26      1977-10-10 12:00:00\n",
       "27      1977-10-10 22:00:00\n",
       "28      1978-10-10 02:00:00\n",
       "29      1979-10-10 00:00:00\n",
       "                ...        \n",
       "88649   2012-09-09 21:00:00\n",
       "88650   2012-09-09 21:00:00\n",
       "88651   2012-09-09 21:00:00\n",
       "88652   2012-09-09 21:55:00\n",
       "88653   2012-09-09 23:00:00\n",
       "88654   2013-09-09 00:15:00\n",
       "88655   2013-09-09 01:50:00\n",
       "88656   2013-09-09 03:00:00\n",
       "88657   2013-09-09 09:51:00\n",
       "88658   2013-09-09 11:00:00\n",
       "88659   2013-09-09 12:00:00\n",
       "88660   2013-09-09 12:34:00\n",
       "88661   2013-09-09 13:10:00\n",
       "88662   2013-09-09 20:00:00\n",
       "88663   2013-09-09 20:15:00\n",
       "88664   2013-09-09 20:20:00\n",
       "88665   2013-09-09 20:21:00\n",
       "88666   2013-09-09 21:00:00\n",
       "88667   2013-09-09 21:00:00\n",
       "88668   2013-09-09 21:00:00\n",
       "88669   2013-09-09 21:00:00\n",
       "88670   2013-09-09 21:00:00\n",
       "88671   2013-09-09 21:15:00\n",
       "88672   2013-09-09 22:00:00\n",
       "88673   2013-09-09 22:00:00\n",
       "88674   2013-09-09 22:00:00\n",
       "88675   2013-09-09 22:20:00\n",
       "88676   2013-09-09 23:00:00\n",
       "88677   2013-09-09 23:00:00\n",
       "88678   2013-09-09 23:30:00\n",
       "Name: datetime, Length: 88677, dtype: datetime64[ns]"
      ]
     },
     "execution_count": 79,
     "metadata": {},
     "output_type": "execute_result"
    }
   ],
   "source": [
    "ufoFrame['datetime']"
   ]
  },
  {
   "cell_type": "markdown",
   "metadata": {},
   "source": [
    "#### Only longitude is in data type float64. But duration(seconds) and longitude should be float as well."
   ]
  },
  {
   "cell_type": "code",
   "execution_count": 80,
   "metadata": {
    "scrolled": false
   },
   "outputs": [
    {
     "ename": "ValueError",
     "evalue": "Unable to parse string \"2`\" at position 30821",
     "output_type": "error",
     "traceback": [
      "\u001b[1;31m---------------------------------------------------------------------------\u001b[0m",
      "\u001b[1;31mValueError\u001b[0m                                Traceback (most recent call last)",
      "\u001b[1;32mpandas/_libs/src\\inference.pyx\u001b[0m in \u001b[0;36mpandas._libs.lib.maybe_convert_numeric\u001b[1;34m()\u001b[0m\n",
      "\u001b[1;31mValueError\u001b[0m: Unable to parse string \"2`\"",
      "\nDuring handling of the above exception, another exception occurred:\n",
      "\u001b[1;31mValueError\u001b[0m                                Traceback (most recent call last)",
      "\u001b[1;32m<ipython-input-80-649c71c0d9fa>\u001b[0m in \u001b[0;36m<module>\u001b[1;34m()\u001b[0m\n\u001b[1;32m----> 1\u001b[1;33m \u001b[0mpd\u001b[0m\u001b[1;33m.\u001b[0m\u001b[0mto_numeric\u001b[0m\u001b[1;33m(\u001b[0m\u001b[0mufoFrame\u001b[0m\u001b[1;33m[\u001b[0m\u001b[1;34m'duration (seconds)'\u001b[0m\u001b[1;33m]\u001b[0m\u001b[1;33m)\u001b[0m\u001b[1;33m\u001b[0m\u001b[0m\n\u001b[0m",
      "\u001b[1;32mD:\\ProgramData\\Anaconda3\\lib\\site-packages\\pandas\\core\\tools\\numeric.py\u001b[0m in \u001b[0;36mto_numeric\u001b[1;34m(arg, errors, downcast)\u001b[0m\n\u001b[0;32m    124\u001b[0m             \u001b[0mcoerce_numeric\u001b[0m \u001b[1;33m=\u001b[0m \u001b[1;32mFalse\u001b[0m \u001b[1;32mif\u001b[0m \u001b[0merrors\u001b[0m \u001b[1;32min\u001b[0m \u001b[1;33m(\u001b[0m\u001b[1;34m'ignore'\u001b[0m\u001b[1;33m,\u001b[0m \u001b[1;34m'raise'\u001b[0m\u001b[1;33m)\u001b[0m \u001b[1;32melse\u001b[0m \u001b[1;32mTrue\u001b[0m\u001b[1;33m\u001b[0m\u001b[0m\n\u001b[0;32m    125\u001b[0m             values = lib.maybe_convert_numeric(values, set(),\n\u001b[1;32m--> 126\u001b[1;33m                                                coerce_numeric=coerce_numeric)\n\u001b[0m\u001b[0;32m    127\u001b[0m \u001b[1;33m\u001b[0m\u001b[0m\n\u001b[0;32m    128\u001b[0m     \u001b[1;32mexcept\u001b[0m \u001b[0mException\u001b[0m\u001b[1;33m:\u001b[0m\u001b[1;33m\u001b[0m\u001b[0m\n",
      "\u001b[1;32mpandas/_libs/src\\inference.pyx\u001b[0m in \u001b[0;36mpandas._libs.lib.maybe_convert_numeric\u001b[1;34m()\u001b[0m\n",
      "\u001b[1;31mValueError\u001b[0m: Unable to parse string \"2`\" at position 30821"
     ]
    }
   ],
   "source": [
    "pd.to_numeric(ufoFrame['duration (seconds)'])"
   ]
  },
  {
   "cell_type": "markdown",
   "metadata": {
    "collapsed": true
   },
   "source": [
    "unable to parse string \"2`\", so I want to keep this error for reference"
   ]
  },
  {
   "cell_type": "code",
   "execution_count": 81,
   "metadata": {},
   "outputs": [
    {
     "data": {
      "text/html": [
       "<div>\n",
       "<style>\n",
       "    .dataframe thead tr:only-child th {\n",
       "        text-align: right;\n",
       "    }\n",
       "\n",
       "    .dataframe thead th {\n",
       "        text-align: left;\n",
       "    }\n",
       "\n",
       "    .dataframe tbody tr th {\n",
       "        vertical-align: top;\n",
       "    }\n",
       "</style>\n",
       "<table border=\"1\" class=\"dataframe\">\n",
       "  <thead>\n",
       "    <tr style=\"text-align: right;\">\n",
       "      <th></th>\n",
       "      <th>datetime</th>\n",
       "      <th>city</th>\n",
       "      <th>state</th>\n",
       "      <th>country</th>\n",
       "      <th>shape</th>\n",
       "      <th>duration (seconds)</th>\n",
       "      <th>comments</th>\n",
       "      <th>date posted</th>\n",
       "      <th>latitude</th>\n",
       "      <th>longitude</th>\n",
       "    </tr>\n",
       "  </thead>\n",
       "  <tbody>\n",
       "    <tr>\n",
       "      <th>0</th>\n",
       "      <td>1949-10-10 20:30:00</td>\n",
       "      <td>san marcos</td>\n",
       "      <td>tx</td>\n",
       "      <td>us</td>\n",
       "      <td>cylinder</td>\n",
       "      <td>2700</td>\n",
       "      <td>\"This event took place in early fall around 19...</td>\n",
       "      <td>4/27/2004</td>\n",
       "      <td>29.8830556</td>\n",
       "      <td>-97.941111</td>\n",
       "    </tr>\n",
       "    <tr>\n",
       "      <th>1</th>\n",
       "      <td>1949-10-10 21:00:00</td>\n",
       "      <td>lackland afb</td>\n",
       "      <td>tx</td>\n",
       "      <td>N/A</td>\n",
       "      <td>light</td>\n",
       "      <td>7200</td>\n",
       "      <td>\"1949 Lackland AFB&amp;#44 TX.  Lights racing acro...</td>\n",
       "      <td>12/16/2005</td>\n",
       "      <td>29.38421</td>\n",
       "      <td>-98.581082</td>\n",
       "    </tr>\n",
       "    <tr>\n",
       "      <th>2</th>\n",
       "      <td>1955-10-10 17:00:00</td>\n",
       "      <td>chester (uk/england)</td>\n",
       "      <td>N/A</td>\n",
       "      <td>gb</td>\n",
       "      <td>circle</td>\n",
       "      <td>20</td>\n",
       "      <td>\"Green/Orange circular disc over Chester&amp;#44 E...</td>\n",
       "      <td>1/21/2008</td>\n",
       "      <td>53.2</td>\n",
       "      <td>-2.916667</td>\n",
       "    </tr>\n",
       "    <tr>\n",
       "      <th>3</th>\n",
       "      <td>1956-10-10 21:00:00</td>\n",
       "      <td>edna</td>\n",
       "      <td>tx</td>\n",
       "      <td>us</td>\n",
       "      <td>circle</td>\n",
       "      <td>20</td>\n",
       "      <td>\"My older brother and twin sister were leaving...</td>\n",
       "      <td>1/17/2004</td>\n",
       "      <td>28.9783333</td>\n",
       "      <td>-96.645833</td>\n",
       "    </tr>\n",
       "    <tr>\n",
       "      <th>4</th>\n",
       "      <td>1960-10-10 20:00:00</td>\n",
       "      <td>kaneohe</td>\n",
       "      <td>hi</td>\n",
       "      <td>us</td>\n",
       "      <td>light</td>\n",
       "      <td>900</td>\n",
       "      <td>\"AS a Marine 1st Lt. flying an FJ4B fighter/at...</td>\n",
       "      <td>1/22/2004</td>\n",
       "      <td>21.4180556</td>\n",
       "      <td>-157.803611</td>\n",
       "    </tr>\n",
       "  </tbody>\n",
       "</table>\n",
       "</div>"
      ],
      "text/plain": [
       "             datetime                  city state country     shape  \\\n",
       "0 1949-10-10 20:30:00            san marcos    tx      us  cylinder   \n",
       "1 1949-10-10 21:00:00          lackland afb    tx     N/A     light   \n",
       "2 1955-10-10 17:00:00  chester (uk/england)   N/A      gb    circle   \n",
       "3 1956-10-10 21:00:00                  edna    tx      us    circle   \n",
       "4 1960-10-10 20:00:00               kaneohe    hi      us     light   \n",
       "\n",
       "  duration (seconds)                                           comments  \\\n",
       "0               2700  \"This event took place in early fall around 19...   \n",
       "1               7200  \"1949 Lackland AFB&#44 TX.  Lights racing acro...   \n",
       "2                 20  \"Green/Orange circular disc over Chester&#44 E...   \n",
       "3                 20  \"My older brother and twin sister were leaving...   \n",
       "4                900  \"AS a Marine 1st Lt. flying an FJ4B fighter/at...   \n",
       "\n",
       "  date posted    latitude   longitude  \n",
       "0   4/27/2004  29.8830556  -97.941111  \n",
       "1  12/16/2005    29.38421  -98.581082  \n",
       "2   1/21/2008        53.2   -2.916667  \n",
       "3   1/17/2004  28.9783333  -96.645833  \n",
       "4   1/22/2004  21.4180556 -157.803611  "
      ]
     },
     "execution_count": 81,
     "metadata": {},
     "output_type": "execute_result"
    }
   ],
   "source": [
    "ufoFrame.head()"
   ]
  },
  {
   "cell_type": "code",
   "execution_count": 82,
   "metadata": {},
   "outputs": [
    {
     "data": {
      "text/plain": [
       "'2`'"
      ]
     },
     "execution_count": 82,
     "metadata": {},
     "output_type": "execute_result"
    }
   ],
   "source": [
    "ufoFrame.at[30821, 'duration (seconds)']"
   ]
  },
  {
   "cell_type": "code",
   "execution_count": 83,
   "metadata": {},
   "outputs": [
    {
     "data": {
      "text/plain": [
       "2"
      ]
     },
     "execution_count": 83,
     "metadata": {},
     "output_type": "execute_result"
    }
   ],
   "source": [
    "ufoFrame.at[30821, 'duration (seconds)'] = 2\n",
    "ufoFrame.at[30821, 'duration (seconds)']"
   ]
  },
  {
   "cell_type": "code",
   "execution_count": 84,
   "metadata": {},
   "outputs": [
    {
     "ename": "ValueError",
     "evalue": "Unable to parse string \"8`\" at position 39519",
     "output_type": "error",
     "traceback": [
      "\u001b[1;31m---------------------------------------------------------------------------\u001b[0m",
      "\u001b[1;31mValueError\u001b[0m                                Traceback (most recent call last)",
      "\u001b[1;32mpandas/_libs/src\\inference.pyx\u001b[0m in \u001b[0;36mpandas._libs.lib.maybe_convert_numeric\u001b[1;34m()\u001b[0m\n",
      "\u001b[1;31mValueError\u001b[0m: Unable to parse string \"8`\"",
      "\nDuring handling of the above exception, another exception occurred:\n",
      "\u001b[1;31mValueError\u001b[0m                                Traceback (most recent call last)",
      "\u001b[1;32m<ipython-input-84-649c71c0d9fa>\u001b[0m in \u001b[0;36m<module>\u001b[1;34m()\u001b[0m\n\u001b[1;32m----> 1\u001b[1;33m \u001b[0mpd\u001b[0m\u001b[1;33m.\u001b[0m\u001b[0mto_numeric\u001b[0m\u001b[1;33m(\u001b[0m\u001b[0mufoFrame\u001b[0m\u001b[1;33m[\u001b[0m\u001b[1;34m'duration (seconds)'\u001b[0m\u001b[1;33m]\u001b[0m\u001b[1;33m)\u001b[0m\u001b[1;33m\u001b[0m\u001b[0m\n\u001b[0m",
      "\u001b[1;32mD:\\ProgramData\\Anaconda3\\lib\\site-packages\\pandas\\core\\tools\\numeric.py\u001b[0m in \u001b[0;36mto_numeric\u001b[1;34m(arg, errors, downcast)\u001b[0m\n\u001b[0;32m    124\u001b[0m             \u001b[0mcoerce_numeric\u001b[0m \u001b[1;33m=\u001b[0m \u001b[1;32mFalse\u001b[0m \u001b[1;32mif\u001b[0m \u001b[0merrors\u001b[0m \u001b[1;32min\u001b[0m \u001b[1;33m(\u001b[0m\u001b[1;34m'ignore'\u001b[0m\u001b[1;33m,\u001b[0m \u001b[1;34m'raise'\u001b[0m\u001b[1;33m)\u001b[0m \u001b[1;32melse\u001b[0m \u001b[1;32mTrue\u001b[0m\u001b[1;33m\u001b[0m\u001b[0m\n\u001b[0;32m    125\u001b[0m             values = lib.maybe_convert_numeric(values, set(),\n\u001b[1;32m--> 126\u001b[1;33m                                                coerce_numeric=coerce_numeric)\n\u001b[0m\u001b[0;32m    127\u001b[0m \u001b[1;33m\u001b[0m\u001b[0m\n\u001b[0;32m    128\u001b[0m     \u001b[1;32mexcept\u001b[0m \u001b[0mException\u001b[0m\u001b[1;33m:\u001b[0m\u001b[1;33m\u001b[0m\u001b[0m\n",
      "\u001b[1;32mpandas/_libs/src\\inference.pyx\u001b[0m in \u001b[0;36mpandas._libs.lib.maybe_convert_numeric\u001b[1;34m()\u001b[0m\n",
      "\u001b[1;31mValueError\u001b[0m: Unable to parse string \"8`\" at position 39519"
     ]
    }
   ],
   "source": [
    "pd.to_numeric(ufoFrame['duration (seconds)'])"
   ]
  },
  {
   "cell_type": "markdown",
   "metadata": {
    "collapsed": true
   },
   "source": [
    "Since we can see that the recurring theme on the strings is the addition of character '`', we can use a lambda function to more\n",
    "effectively remove it"
   ]
  },
  {
   "cell_type": "code",
   "execution_count": 85,
   "metadata": {},
   "outputs": [
    {
     "data": {
      "text/plain": [
       "'8`'"
      ]
     },
     "execution_count": 85,
     "metadata": {},
     "output_type": "execute_result"
    }
   ],
   "source": [
    "ufoFrame.at[39519, 'duration (seconds)']"
   ]
  },
  {
   "cell_type": "code",
   "execution_count": 86,
   "metadata": {},
   "outputs": [
    {
     "data": {
      "text/plain": [
       "8"
      ]
     },
     "execution_count": 86,
     "metadata": {},
     "output_type": "execute_result"
    }
   ],
   "source": [
    "ufoFrame.at[39519, 'duration (seconds)'] = 8\n",
    "ufoFrame.at[39519, 'duration (seconds)']"
   ]
  },
  {
   "cell_type": "code",
   "execution_count": 87,
   "metadata": {
    "collapsed": true
   },
   "outputs": [],
   "source": [
    "# rstrip only works on strings, so we are changing the datatype\n",
    "ufoFrame['duration (seconds)'] = ufoFrame['duration (seconds)'].astype(str)"
   ]
  },
  {
   "cell_type": "code",
   "execution_count": 88,
   "metadata": {
    "collapsed": true
   },
   "outputs": [],
   "source": [
    "ufoFrame['duration (seconds)'] = ufoFrame['duration (seconds)'].map(lambda x: x.rstrip('`'))"
   ]
  },
  {
   "cell_type": "code",
   "execution_count": 89,
   "metadata": {
    "collapsed": true
   },
   "outputs": [],
   "source": [
    "ufoFrame['duration (seconds)'] = pd.to_numeric(ufoFrame['duration (seconds)'])"
   ]
  },
  {
   "cell_type": "code",
   "execution_count": 90,
   "metadata": {},
   "outputs": [
    {
     "data": {
      "text/plain": [
       "0.5"
      ]
     },
     "execution_count": 90,
     "metadata": {},
     "output_type": "execute_result"
    }
   ],
   "source": [
    "ufoFrame.at[64975, 'duration (seconds)']"
   ]
  },
  {
   "cell_type": "code",
   "execution_count": 91,
   "metadata": {},
   "outputs": [
    {
     "data": {
      "text/plain": [
       "0.5"
      ]
     },
     "execution_count": 91,
     "metadata": {},
     "output_type": "execute_result"
    }
   ],
   "source": [
    "ufoFrame.at[64975, 'duration (seconds)'] = 0.5\n",
    "ufoFrame.at[64975, 'duration (seconds)']"
   ]
  },
  {
   "cell_type": "code",
   "execution_count": 92,
   "metadata": {},
   "outputs": [
    {
     "name": "stdout",
     "output_type": "stream",
     "text": [
      "<class 'pandas.core.frame.DataFrame'>\n",
      "Int64Index: 88677 entries, 0 to 88678\n",
      "Data columns (total 10 columns):\n",
      "datetime              87457 non-null datetime64[ns]\n",
      "city                  88677 non-null object\n",
      "state                 88677 non-null object\n",
      "country               88677 non-null object\n",
      "shape                 88677 non-null object\n",
      "duration (seconds)    88677 non-null float64\n",
      "comments              88677 non-null object\n",
      "date posted           88677 non-null object\n",
      "latitude              88677 non-null object\n",
      "longitude             88677 non-null float64\n",
      "dtypes: datetime64[ns](1), float64(2), object(7)\n",
      "memory usage: 9.9+ MB\n"
     ]
    }
   ],
   "source": [
    "ufoFrame['duration (seconds)'] = pd.to_numeric(ufoFrame['duration (seconds)'])\n",
    "ufoFrame.info()"
   ]
  },
  {
   "cell_type": "markdown",
   "metadata": {},
   "source": [
    "#### Now let's see the summary again. Duration(seconds) is correctly showed."
   ]
  },
  {
   "cell_type": "code",
   "execution_count": 93,
   "metadata": {},
   "outputs": [
    {
     "data": {
      "text/html": [
       "<div>\n",
       "<style>\n",
       "    .dataframe thead tr:only-child th {\n",
       "        text-align: right;\n",
       "    }\n",
       "\n",
       "    .dataframe thead th {\n",
       "        text-align: left;\n",
       "    }\n",
       "\n",
       "    .dataframe tbody tr th {\n",
       "        vertical-align: top;\n",
       "    }\n",
       "</style>\n",
       "<table border=\"1\" class=\"dataframe\">\n",
       "  <thead>\n",
       "    <tr style=\"text-align: right;\">\n",
       "      <th></th>\n",
       "      <th>duration (seconds)</th>\n",
       "      <th>longitude</th>\n",
       "    </tr>\n",
       "  </thead>\n",
       "  <tbody>\n",
       "    <tr>\n",
       "      <th>count</th>\n",
       "      <td>8.867700e+04</td>\n",
       "      <td>88677.000000</td>\n",
       "    </tr>\n",
       "    <tr>\n",
       "      <th>mean</th>\n",
       "      <td>8.391636e+03</td>\n",
       "      <td>-85.022789</td>\n",
       "    </tr>\n",
       "    <tr>\n",
       "      <th>std</th>\n",
       "      <td>5.911467e+05</td>\n",
       "      <td>41.421118</td>\n",
       "    </tr>\n",
       "    <tr>\n",
       "      <th>min</th>\n",
       "      <td>0.000000e+00</td>\n",
       "      <td>-176.658056</td>\n",
       "    </tr>\n",
       "    <tr>\n",
       "      <th>25%</th>\n",
       "      <td>1.500000e+01</td>\n",
       "      <td>-112.073333</td>\n",
       "    </tr>\n",
       "    <tr>\n",
       "      <th>50%</th>\n",
       "      <td>1.200000e+02</td>\n",
       "      <td>-87.650000</td>\n",
       "    </tr>\n",
       "    <tr>\n",
       "      <th>75%</th>\n",
       "      <td>6.000000e+02</td>\n",
       "      <td>-77.770000</td>\n",
       "    </tr>\n",
       "    <tr>\n",
       "      <th>max</th>\n",
       "      <td>9.783600e+07</td>\n",
       "      <td>178.441900</td>\n",
       "    </tr>\n",
       "  </tbody>\n",
       "</table>\n",
       "</div>"
      ],
      "text/plain": [
       "       duration (seconds)     longitude\n",
       "count        8.867700e+04  88677.000000\n",
       "mean         8.391636e+03    -85.022789\n",
       "std          5.911467e+05     41.421118\n",
       "min          0.000000e+00   -176.658056\n",
       "25%          1.500000e+01   -112.073333\n",
       "50%          1.200000e+02    -87.650000\n",
       "75%          6.000000e+02    -77.770000\n",
       "max          9.783600e+07    178.441900"
      ]
     },
     "execution_count": 93,
     "metadata": {},
     "output_type": "execute_result"
    }
   ],
   "source": [
    "ufoFrame.describe()"
   ]
  },
  {
   "cell_type": "markdown",
   "metadata": {},
   "source": [
    "#### We need to do the same process to latitude column."
   ]
  },
  {
   "cell_type": "code",
   "execution_count": 94,
   "metadata": {},
   "outputs": [
    {
     "ename": "ValueError",
     "evalue": "Unable to parse string \"33q.200088\" at position 48460",
     "output_type": "error",
     "traceback": [
      "\u001b[1;31m---------------------------------------------------------------------------\u001b[0m",
      "\u001b[1;31mValueError\u001b[0m                                Traceback (most recent call last)",
      "\u001b[1;32mpandas/_libs/src\\inference.pyx\u001b[0m in \u001b[0;36mpandas._libs.lib.maybe_convert_numeric\u001b[1;34m()\u001b[0m\n",
      "\u001b[1;31mValueError\u001b[0m: Unable to parse string \"33q.200088\"",
      "\nDuring handling of the above exception, another exception occurred:\n",
      "\u001b[1;31mValueError\u001b[0m                                Traceback (most recent call last)",
      "\u001b[1;32m<ipython-input-94-b9d3528005b6>\u001b[0m in \u001b[0;36m<module>\u001b[1;34m()\u001b[0m\n\u001b[1;32m----> 1\u001b[1;33m \u001b[0mufoFrame\u001b[0m\u001b[1;33m[\u001b[0m\u001b[1;34m'latitude'\u001b[0m\u001b[1;33m]\u001b[0m\u001b[1;33m=\u001b[0m\u001b[0mpd\u001b[0m\u001b[1;33m.\u001b[0m\u001b[0mto_numeric\u001b[0m\u001b[1;33m(\u001b[0m\u001b[0mufoFrame\u001b[0m\u001b[1;33m[\u001b[0m\u001b[1;34m'latitude'\u001b[0m\u001b[1;33m]\u001b[0m\u001b[1;33m)\u001b[0m\u001b[1;33m\u001b[0m\u001b[0m\n\u001b[0m",
      "\u001b[1;32mD:\\ProgramData\\Anaconda3\\lib\\site-packages\\pandas\\core\\tools\\numeric.py\u001b[0m in \u001b[0;36mto_numeric\u001b[1;34m(arg, errors, downcast)\u001b[0m\n\u001b[0;32m    124\u001b[0m             \u001b[0mcoerce_numeric\u001b[0m \u001b[1;33m=\u001b[0m \u001b[1;32mFalse\u001b[0m \u001b[1;32mif\u001b[0m \u001b[0merrors\u001b[0m \u001b[1;32min\u001b[0m \u001b[1;33m(\u001b[0m\u001b[1;34m'ignore'\u001b[0m\u001b[1;33m,\u001b[0m \u001b[1;34m'raise'\u001b[0m\u001b[1;33m)\u001b[0m \u001b[1;32melse\u001b[0m \u001b[1;32mTrue\u001b[0m\u001b[1;33m\u001b[0m\u001b[0m\n\u001b[0;32m    125\u001b[0m             values = lib.maybe_convert_numeric(values, set(),\n\u001b[1;32m--> 126\u001b[1;33m                                                coerce_numeric=coerce_numeric)\n\u001b[0m\u001b[0;32m    127\u001b[0m \u001b[1;33m\u001b[0m\u001b[0m\n\u001b[0;32m    128\u001b[0m     \u001b[1;32mexcept\u001b[0m \u001b[0mException\u001b[0m\u001b[1;33m:\u001b[0m\u001b[1;33m\u001b[0m\u001b[0m\n",
      "\u001b[1;32mpandas/_libs/src\\inference.pyx\u001b[0m in \u001b[0;36mpandas._libs.lib.maybe_convert_numeric\u001b[1;34m()\u001b[0m\n",
      "\u001b[1;31mValueError\u001b[0m: Unable to parse string \"33q.200088\" at position 48460"
     ]
    }
   ],
   "source": [
    "ufoFrame['latitude']=pd.to_numeric(ufoFrame['latitude'])"
   ]
  },
  {
   "cell_type": "code",
   "execution_count": 95,
   "metadata": {},
   "outputs": [
    {
     "data": {
      "text/plain": [
       "'33q.200088'"
      ]
     },
     "execution_count": 95,
     "metadata": {},
     "output_type": "execute_result"
    }
   ],
   "source": [
    "ufoFrame.at[48461, 'latitude']"
   ]
  },
  {
   "cell_type": "code",
   "execution_count": 96,
   "metadata": {},
   "outputs": [
    {
     "data": {
      "text/plain": [
       "33.200088"
      ]
     },
     "execution_count": 96,
     "metadata": {},
     "output_type": "execute_result"
    }
   ],
   "source": [
    "ufoFrame.at[48461, 'latitude'] = 33.200088\n",
    "ufoFrame.at[48461, 'latitude']"
   ]
  },
  {
   "cell_type": "code",
   "execution_count": 97,
   "metadata": {
    "collapsed": true
   },
   "outputs": [],
   "source": [
    "ufoFrame['latitude']=pd.to_numeric(ufoFrame['latitude'])"
   ]
  },
  {
   "cell_type": "markdown",
   "metadata": {},
   "source": [
    "#### Now, let's call describe again. We can see that all numerical columns are in correct data type."
   ]
  },
  {
   "cell_type": "code",
   "execution_count": 98,
   "metadata": {},
   "outputs": [
    {
     "data": {
      "text/html": [
       "<div>\n",
       "<style>\n",
       "    .dataframe thead tr:only-child th {\n",
       "        text-align: right;\n",
       "    }\n",
       "\n",
       "    .dataframe thead th {\n",
       "        text-align: left;\n",
       "    }\n",
       "\n",
       "    .dataframe tbody tr th {\n",
       "        vertical-align: top;\n",
       "    }\n",
       "</style>\n",
       "<table border=\"1\" class=\"dataframe\">\n",
       "  <thead>\n",
       "    <tr style=\"text-align: right;\">\n",
       "      <th></th>\n",
       "      <th>duration (seconds)</th>\n",
       "      <th>latitude</th>\n",
       "      <th>longitude</th>\n",
       "    </tr>\n",
       "  </thead>\n",
       "  <tbody>\n",
       "    <tr>\n",
       "      <th>count</th>\n",
       "      <td>8.867700e+04</td>\n",
       "      <td>88677.000000</td>\n",
       "      <td>88677.000000</td>\n",
       "    </tr>\n",
       "    <tr>\n",
       "      <th>mean</th>\n",
       "      <td>8.391636e+03</td>\n",
       "      <td>37.453041</td>\n",
       "      <td>-85.022789</td>\n",
       "    </tr>\n",
       "    <tr>\n",
       "      <th>std</th>\n",
       "      <td>5.911467e+05</td>\n",
       "      <td>11.572520</td>\n",
       "      <td>41.421118</td>\n",
       "    </tr>\n",
       "    <tr>\n",
       "      <th>min</th>\n",
       "      <td>0.000000e+00</td>\n",
       "      <td>-82.862752</td>\n",
       "      <td>-176.658056</td>\n",
       "    </tr>\n",
       "    <tr>\n",
       "      <th>25%</th>\n",
       "      <td>1.500000e+01</td>\n",
       "      <td>34.035000</td>\n",
       "      <td>-112.073333</td>\n",
       "    </tr>\n",
       "    <tr>\n",
       "      <th>50%</th>\n",
       "      <td>1.200000e+02</td>\n",
       "      <td>39.233333</td>\n",
       "      <td>-87.650000</td>\n",
       "    </tr>\n",
       "    <tr>\n",
       "      <th>75%</th>\n",
       "      <td>6.000000e+02</td>\n",
       "      <td>42.717778</td>\n",
       "      <td>-77.770000</td>\n",
       "    </tr>\n",
       "    <tr>\n",
       "      <th>max</th>\n",
       "      <td>9.783600e+07</td>\n",
       "      <td>72.700000</td>\n",
       "      <td>178.441900</td>\n",
       "    </tr>\n",
       "  </tbody>\n",
       "</table>\n",
       "</div>"
      ],
      "text/plain": [
       "       duration (seconds)      latitude     longitude\n",
       "count        8.867700e+04  88677.000000  88677.000000\n",
       "mean         8.391636e+03     37.453041    -85.022789\n",
       "std          5.911467e+05     11.572520     41.421118\n",
       "min          0.000000e+00    -82.862752   -176.658056\n",
       "25%          1.500000e+01     34.035000   -112.073333\n",
       "50%          1.200000e+02     39.233333    -87.650000\n",
       "75%          6.000000e+02     42.717778    -77.770000\n",
       "max          9.783600e+07     72.700000    178.441900"
      ]
     },
     "execution_count": 98,
     "metadata": {},
     "output_type": "execute_result"
    }
   ],
   "source": [
    "ufoFrame.describe()"
   ]
  },
  {
   "cell_type": "markdown",
   "metadata": {},
   "source": [
    "## 2. EDA"
   ]
  },
  {
   "cell_type": "markdown",
   "metadata": {
    "collapsed": true
   },
   "source": [
    "Answer Questions:\n",
    "Question 1: How's the data distributed?"
   ]
  },
  {
   "cell_type": "markdown",
   "metadata": {},
   "source": [
    "### 1) Country"
   ]
  },
  {
   "cell_type": "markdown",
   "metadata": {},
   "source": [
    "For country column, only countplot makes sense because the data distributes totally randomly."
   ]
  },
  {
   "cell_type": "code",
   "execution_count": 44,
   "metadata": {},
   "outputs": [
    {
     "data": {
      "text/plain": [
       "<matplotlib.axes._subplots.AxesSubplot at 0x28c2ac9f710>"
      ]
     },
     "execution_count": 44,
     "metadata": {},
     "output_type": "execute_result"
    },
    {
     "data": {
      "image/png": "[encoded data removed]",
      "text/plain": [
       "<matplotlib.figure.Figure at 0x28c2ac8f940>"
      ]
     },
     "metadata": {},
     "output_type": "display_data"
    }
   ],
   "source": [
    "sns.countplot(y=\"country\", data=ufoFrame, palette=\"Blues_d\")"
   ]
  },
  {
   "cell_type": "code",
   "execution_count": 106,
   "metadata": {},
   "outputs": [
    {
     "data": {
      "text/plain": [
       "<matplotlib.axes._subplots.AxesSubplot at 0x28c2bfff198>"
      ]
     },
     "execution_count": 106,
     "metadata": {},
     "output_type": "execute_result"
    },
    {
     "data": {
      "image/png": "[encoded data removed]",
      "text/plain": [
       "<matplotlib.figure.Figure at 0x28c2c00ad30>"
      ]
     },
     "metadata": {},
     "output_type": "display_data"
    }
   ],
   "source": [
    "pd.value_counts(ufoFrame['country']).plot.bar()"
   ]
  },
  {
   "cell_type": "markdown",
   "metadata": {},
   "source": [
    "This plot tells me that the UFO sightings mainly took place in several countries, and United States is the country with most sighting events. According to my knowledge, there has been an alien fever in United States since last century. It is not weird that most majority of the events took place in United States, because people here prefer to explain  supernatural phenomenon as UFO. While in other cultures, even if the same event occurs, people might prefer to explain it as gods epiphany or mythical legend creatures."
   ]
  },
  {
   "cell_type": "markdown",
   "metadata": {},
   "source": [
    "### 2) State"
   ]
  },
  {
   "cell_type": "markdown",
   "metadata": {},
   "source": [
    "Now let's take a look at states. For states column, only countplot makes sense because the data distributes totally randomly. First we need to resize the plot to get a clearer view."
   ]
  },
  {
   "cell_type": "code",
   "execution_count": 45,
   "metadata": {},
   "outputs": [
    {
     "data": {
      "text/plain": [
       "<matplotlib.axes._subplots.AxesSubplot at 0x28c2b4d3f60>"
      ]
     },
     "execution_count": 45,
     "metadata": {},
     "output_type": "execute_result"
    },
    {
     "data": {
      "image/png": "[encoded data removed]",
      "text/plain": [
       "<matplotlib.figure.Figure at 0x28c2b468630>"
      ]
     },
     "metadata": {},
     "output_type": "display_data"
    }
   ],
   "source": [
    "sns.set(rc={'figure.figsize':(20,10)})\n",
    "sns.countplot(y=\"state\", data=ufoFrame, palette=\"Blues_d\")"
   ]
  },
  {
   "cell_type": "markdown",
   "metadata": {},
   "source": [
    "We can also make ordered plot with pandas."
   ]
  },
  {
   "cell_type": "code",
   "execution_count": 105,
   "metadata": {},
   "outputs": [
    {
     "data": {
      "text/plain": [
       "<matplotlib.axes._subplots.AxesSubplot at 0x28c2b11a0b8>"
      ]
     },
     "execution_count": 105,
     "metadata": {},
     "output_type": "execute_result"
    },
    {
     "data": {
      "image/png": "[encoded data removed]",
      "text/plain": [
       "<matplotlib.figure.Figure at 0x28c2b127710>"
      ]
     },
     "metadata": {},
     "output_type": "display_data"
    }
   ],
   "source": [
    "pd.value_counts(ufoFrame['state']).plot.bar()"
   ]
  },
  {
   "cell_type": "markdown",
   "metadata": {},
   "source": [
    "This plot tells me that the UFO sightings mainly took place in states in United States, and there are also sightings in other countries(N/A). The state of United States that has most signting events is California, and the second is Washington State, and the third is Florida. Texas, New York and Arizona are following closely. The distribution seems random, but there should be a reason for this result, like geographical condition, or industrial condition."
   ]
  },
  {
   "cell_type": "markdown",
   "metadata": {},
   "source": [
    "### 3) Latitude"
   ]
  },
  {
   "cell_type": "markdown",
   "metadata": {},
   "source": [
    "For latitude column, because it is correlated to country, here we can use histogram to see the distribution."
   ]
  },
  {
   "cell_type": "code",
   "execution_count": 46,
   "metadata": {},
   "outputs": [
    {
     "data": {
      "text/plain": [
       "<matplotlib.axes._subplots.AxesSubplot at 0x28c2c870470>"
      ]
     },
     "execution_count": 46,
     "metadata": {},
     "output_type": "execute_result"
    },
    {
     "data": {
      "image/png": "[encoded data removed]",
      "text/plain": [
       "<matplotlib.figure.Figure at 0x28c2b453d68>"
      ]
     },
     "metadata": {},
     "output_type": "display_data"
    }
   ],
   "source": [
    "sns.distplot(ufoFrame['latitude'])"
   ]
  },
  {
   "cell_type": "markdown",
   "metadata": {},
   "source": [
    "This plot tells me that the latitute of the sighting events mainly occurred between latitude 25°N and 55°N， which corresponds to the latitude of United States(25N-49N). And it also shows an increase around 0°(equator). But when I look at the data, I found that some data is actually with 0 latitude and 0 longitude, which means that the posiiton is unknown."
   ]
  },
  {
   "cell_type": "markdown",
   "metadata": {},
   "source": [
    "### 4) Longitude"
   ]
  },
  {
   "cell_type": "markdown",
   "metadata": {},
   "source": [
    "For longitude column, although it is not influenced by latitude column, they both are correlated to country. Here we can use histogram to see the distribution."
   ]
  },
  {
   "cell_type": "code",
   "execution_count": 47,
   "metadata": {},
   "outputs": [
    {
     "data": {
      "text/plain": [
       "<matplotlib.axes._subplots.AxesSubplot at 0x28c2c93f9b0>"
      ]
     },
     "execution_count": 47,
     "metadata": {},
     "output_type": "execute_result"
    },
    {
     "data": {
      "image/png": "[encoded data removed]",
      "text/plain": [
       "<matplotlib.figure.Figure at 0x28c2c963080>"
      ]
     },
     "metadata": {},
     "output_type": "display_data"
    }
   ],
   "source": [
    "sns.distplot(ufoFrame['longitude'])"
   ]
  },
  {
   "cell_type": "markdown",
   "metadata": {},
   "source": [
    "This plot tells me that the longitude of the sighting events mainly occurred between longitude 70°W and 130°W， which corresponds to the latitude of United States(73W-125W). And there is also an increase around 0°, same reason as latitude."
   ]
  },
  {
   "cell_type": "markdown",
   "metadata": {},
   "source": [
    "### 5) Duration (seconds)"
   ]
  },
  {
   "cell_type": "code",
   "execution_count": 48,
   "metadata": {},
   "outputs": [
    {
     "data": {
      "text/plain": [
       "0        2700.0\n",
       "1        7200.0\n",
       "2          20.0\n",
       "3          20.0\n",
       "4         900.0\n",
       "5         300.0\n",
       "6         180.0\n",
       "7        1200.0\n",
       "8         180.0\n",
       "9         120.0\n",
       "10        300.0\n",
       "11        180.0\n",
       "12       1800.0\n",
       "13        180.0\n",
       "14         30.0\n",
       "15       1200.0\n",
       "16        120.0\n",
       "17       1800.0\n",
       "18         20.0\n",
       "19        120.0\n",
       "20       2700.0\n",
       "21       1200.0\n",
       "22       1200.0\n",
       "23        360.0\n",
       "24         60.0\n",
       "25          3.0\n",
       "26         30.0\n",
       "27         30.0\n",
       "28        300.0\n",
       "29        900.0\n",
       "          ...  \n",
       "88649    1290.0\n",
       "88650      60.0\n",
       "88651     300.0\n",
       "88652     900.0\n",
       "88653       5.0\n",
       "88654       1.0\n",
       "88655     180.0\n",
       "88656     120.0\n",
       "88657       4.0\n",
       "88658       0.0\n",
       "88659       0.0\n",
       "88660       8.0\n",
       "88661      90.0\n",
       "88662       0.0\n",
       "88663    3600.0\n",
       "88664      60.0\n",
       "88665       3.0\n",
       "88666      15.0\n",
       "88667      60.0\n",
       "88668     120.0\n",
       "88669     180.0\n",
       "88670      20.0\n",
       "88671     600.0\n",
       "88672    1200.0\n",
       "88673       0.0\n",
       "88674    1200.0\n",
       "88675       5.0\n",
       "88676    1020.0\n",
       "88677       0.0\n",
       "88678       0.0\n",
       "Name: duration (seconds), Length: 88677, dtype: float64"
      ]
     },
     "execution_count": 48,
     "metadata": {},
     "output_type": "execute_result"
    }
   ],
   "source": [
    "ufoFrame['duration (seconds)']"
   ]
  },
  {
   "cell_type": "markdown",
   "metadata": {},
   "source": [
    "For duration column, there is no other factors that affects the data. So we use countplot here as well."
   ]
  },
  {
   "cell_type": "code",
   "execution_count": 49,
   "metadata": {},
   "outputs": [
    {
     "data": {
      "text/plain": [
       "<matplotlib.axes._subplots.AxesSubplot at 0x28c2c90e400>"
      ]
     },
     "execution_count": 49,
     "metadata": {},
     "output_type": "execute_result"
    },
    {
     "data": {
      "image/png": "[encoded data removed]",
      "text/plain": [
       "<matplotlib.figure.Figure at 0x28c2c94a978>"
      ]
     },
     "metadata": {},
     "output_type": "display_data"
    }
   ],
   "source": [
    "sns.countplot(y='duration (seconds)', data=ufoFrame)"
   ]
  },
  {
   "cell_type": "code",
   "execution_count": 107,
   "metadata": {},
   "outputs": [
    {
     "data": {
      "text/plain": [
       "<matplotlib.axes._subplots.AxesSubplot at 0x28c2c00d7b8>"
      ]
     },
     "execution_count": 107,
     "metadata": {},
     "output_type": "execute_result"
    },
    {
     "data": {
      "image/png": "[encoded data removed]",
      "text/plain": [
       "<matplotlib.figure.Figure at 0x28c2afc5be0>"
      ]
     },
     "metadata": {},
     "output_type": "display_data"
    }
   ],
   "source": [
    "pd.value_counts(ufoFrame['duration (seconds)']).plot.bar()"
   ]
  },
  {
   "cell_type": "markdown",
   "metadata": {},
   "source": [
    "From this plot, we can see that the duration (seconds) distributes quite randomly in a wide range. The maximum value is over 8000 seconds. It makes sense because there is no clear limit of this data. The shortest duration might be a blink of eye, which is also the shortest time we can realize. But the longest duration could be in hours or even days. However, most events only lasted for several seconds. In this column, there are obviously some outliers. Most majority of the data is less than a few minutes, but still, very few of the data is over 2000 seconds. "
   ]
  },
  {
   "cell_type": "markdown",
   "metadata": {},
   "source": [
    "### 6) Shape"
   ]
  },
  {
   "cell_type": "markdown",
   "metadata": {},
   "source": [
    "For shape column, we also use countplot."
   ]
  },
  {
   "cell_type": "code",
   "execution_count": 101,
   "metadata": {},
   "outputs": [
    {
     "data": {
      "text/plain": [
       "<matplotlib.axes._subplots.AxesSubplot at 0x28c2af771d0>"
      ]
     },
     "execution_count": 101,
     "metadata": {},
     "output_type": "execute_result"
    },
    {
     "data": {
      "image/png": "[encoded data removed]",
      "text/plain": [
       "<matplotlib.figure.Figure at 0x28c2af713c8>"
      ]
     },
     "metadata": {},
     "output_type": "display_data"
    }
   ],
   "source": [
    "sns.countplot(y=\"shape\", data=ufoFrame, palette=\"Blues_d\")"
   ]
  },
  {
   "cell_type": "code",
   "execution_count": 103,
   "metadata": {},
   "outputs": [
    {
     "data": {
      "text/plain": [
       "<matplotlib.axes._subplots.AxesSubplot at 0x28c2afb5b00>"
      ]
     },
     "execution_count": 103,
     "metadata": {},
     "output_type": "execute_result"
    },
    {
     "data": {
      "image/png": "[encoded data removed]",
      "text/plain": [
       "<matplotlib.figure.Figure at 0x28c2afbfc18>"
      ]
     },
     "metadata": {},
     "output_type": "display_data"
    }
   ],
   "source": [
    "pd.value_counts(ufoFrame['shape']).plot.bar()"
   ]
  },
  {
   "cell_type": "markdown",
   "metadata": {},
   "source": [
    "From this plot, we can see that most witnesses recognize the UFO they saw as light. Other shapes are also recognized by many people. This colomn of data distributes randomly as well, because sighting events are not related. The outlier here would be light, which is much greater than others."
   ]
  },
  {
   "cell_type": "markdown",
   "metadata": {},
   "source": [
    "### Question 2: What are the summary statistics?"
   ]
  },
  {
   "cell_type": "code",
   "execution_count": 51,
   "metadata": {},
   "outputs": [
    {
     "data": {
      "text/html": [
       "<div>\n",
       "<style>\n",
       "    .dataframe thead tr:only-child th {\n",
       "        text-align: right;\n",
       "    }\n",
       "\n",
       "    .dataframe thead th {\n",
       "        text-align: left;\n",
       "    }\n",
       "\n",
       "    .dataframe tbody tr th {\n",
       "        vertical-align: top;\n",
       "    }\n",
       "</style>\n",
       "<table border=\"1\" class=\"dataframe\">\n",
       "  <thead>\n",
       "    <tr style=\"text-align: right;\">\n",
       "      <th></th>\n",
       "      <th>duration (seconds)</th>\n",
       "      <th>latitude</th>\n",
       "      <th>longitude</th>\n",
       "    </tr>\n",
       "  </thead>\n",
       "  <tbody>\n",
       "    <tr>\n",
       "      <th>count</th>\n",
       "      <td>8.867700e+04</td>\n",
       "      <td>88677.000000</td>\n",
       "      <td>88677.000000</td>\n",
       "    </tr>\n",
       "    <tr>\n",
       "      <th>mean</th>\n",
       "      <td>8.391636e+03</td>\n",
       "      <td>37.453041</td>\n",
       "      <td>-85.022789</td>\n",
       "    </tr>\n",
       "    <tr>\n",
       "      <th>std</th>\n",
       "      <td>5.911467e+05</td>\n",
       "      <td>11.572520</td>\n",
       "      <td>41.421118</td>\n",
       "    </tr>\n",
       "    <tr>\n",
       "      <th>min</th>\n",
       "      <td>0.000000e+00</td>\n",
       "      <td>-82.862752</td>\n",
       "      <td>-176.658056</td>\n",
       "    </tr>\n",
       "    <tr>\n",
       "      <th>25%</th>\n",
       "      <td>1.500000e+01</td>\n",
       "      <td>34.035000</td>\n",
       "      <td>-112.073333</td>\n",
       "    </tr>\n",
       "    <tr>\n",
       "      <th>50%</th>\n",
       "      <td>1.200000e+02</td>\n",
       "      <td>39.233333</td>\n",
       "      <td>-87.650000</td>\n",
       "    </tr>\n",
       "    <tr>\n",
       "      <th>75%</th>\n",
       "      <td>6.000000e+02</td>\n",
       "      <td>42.717778</td>\n",
       "      <td>-77.770000</td>\n",
       "    </tr>\n",
       "    <tr>\n",
       "      <th>max</th>\n",
       "      <td>9.783600e+07</td>\n",
       "      <td>72.700000</td>\n",
       "      <td>178.441900</td>\n",
       "    </tr>\n",
       "  </tbody>\n",
       "</table>\n",
       "</div>"
      ],
      "text/plain": [
       "       duration (seconds)      latitude     longitude\n",
       "count        8.867700e+04  88677.000000  88677.000000\n",
       "mean         8.391636e+03     37.453041    -85.022789\n",
       "std          5.911467e+05     11.572520     41.421118\n",
       "min          0.000000e+00    -82.862752   -176.658056\n",
       "25%          1.500000e+01     34.035000   -112.073333\n",
       "50%          1.200000e+02     39.233333    -87.650000\n",
       "75%          6.000000e+02     42.717778    -77.770000\n",
       "max          9.783600e+07     72.700000    178.441900"
      ]
     },
     "execution_count": 51,
     "metadata": {},
     "output_type": "execute_result"
    }
   ],
   "source": [
    "ufoFrame.describe()"
   ]
  },
  {
   "cell_type": "markdown",
   "metadata": {},
   "source": [
    "#### Count: the total count of data in the column.\n",
    "#### Mean: the mean value of the column data.\n",
    "#### std: the standard deviation of the column data.\n",
    "#### min: the minimum value in the column.\n",
    "#### 25%: the data at the 25%th position from the minimum value. \n",
    "#### 50%: the data at the 50%th position from the minimum value. Also known as median.\n",
    "#### 75%: the data at the 75%th position from the minimum value. \n",
    "#### max: the maximum value in the column."
   ]
  },
  {
   "cell_type": "markdown",
   "metadata": {},
   "source": [
    "Then, how much are the columns related to each other? We can use corr to calculate the correlation coefficient."
   ]
  },
  {
   "cell_type": "code",
   "execution_count": 108,
   "metadata": {},
   "outputs": [
    {
     "data": {
      "text/html": [
       "<div>\n",
       "<style>\n",
       "    .dataframe thead tr:only-child th {\n",
       "        text-align: right;\n",
       "    }\n",
       "\n",
       "    .dataframe thead th {\n",
       "        text-align: left;\n",
       "    }\n",
       "\n",
       "    .dataframe tbody tr th {\n",
       "        vertical-align: top;\n",
       "    }\n",
       "</style>\n",
       "<table border=\"1\" class=\"dataframe\">\n",
       "  <thead>\n",
       "    <tr style=\"text-align: right;\">\n",
       "      <th></th>\n",
       "      <th>duration (seconds)</th>\n",
       "      <th>latitude</th>\n",
       "      <th>longitude</th>\n",
       "    </tr>\n",
       "  </thead>\n",
       "  <tbody>\n",
       "    <tr>\n",
       "      <th>duration (seconds)</th>\n",
       "      <td>1.000000</td>\n",
       "      <td>0.001854</td>\n",
       "      <td>0.006069</td>\n",
       "    </tr>\n",
       "    <tr>\n",
       "      <th>latitude</th>\n",
       "      <td>0.001854</td>\n",
       "      <td>1.000000</td>\n",
       "      <td>-0.457324</td>\n",
       "    </tr>\n",
       "    <tr>\n",
       "      <th>longitude</th>\n",
       "      <td>0.006069</td>\n",
       "      <td>-0.457324</td>\n",
       "      <td>1.000000</td>\n",
       "    </tr>\n",
       "  </tbody>\n",
       "</table>\n",
       "</div>"
      ],
      "text/plain": [
       "                    duration (seconds)  latitude  longitude\n",
       "duration (seconds)            1.000000  0.001854   0.006069\n",
       "latitude                      0.001854  1.000000  -0.457324\n",
       "longitude                     0.006069 -0.457324   1.000000"
      ]
     },
     "execution_count": 108,
     "metadata": {},
     "output_type": "execute_result"
    }
   ],
   "source": [
    "ufoFrame.corr(method='pearson',min_periods=1)"
   ]
  },
  {
   "cell_type": "markdown",
   "metadata": {},
   "source": [
    "We can see that a column is fully correlated to itself. The coefficient between latitude and longitude is relatively high. However, duration is hardly correlated to the other two numerical columns."
   ]
  },
  {
   "cell_type": "markdown",
   "metadata": {
    "collapsed": true
   },
   "source": [
    "# Part B - Web Scraper"
   ]
  },
  {
   "cell_type": "markdown",
   "metadata": {},
   "source": [
    "First, import the libraries I'm going to use. In order to implement writing"
   ]
  },
  {
   "cell_type": "code",
   "execution_count": 32,
   "metadata": {
    "collapsed": true
   },
   "outputs": [],
   "source": [
    "from __future__ import print_function\n",
    "import urllib3\n",
    "import unicodedata\n",
    "from bs4 import BeautifulSoup, SoupStrainer, Comment\n",
    "import warnings\n",
    "warnings.filterwarnings('ignore')\n",
    "from datetime import datetime\n",
    "import xlwt"
   ]
  },
  {
   "cell_type": "markdown",
   "metadata": {},
   "source": [
    "Here I choose a website portfoliobox.net, which is for making online personal portfolios."
   ]
  },
  {
   "cell_type": "code",
   "execution_count": 33,
   "metadata": {
    "collapsed": true
   },
   "outputs": [],
   "source": [
    "# portfoliobox.net\n",
    "url='http://portfoliobox.net'"
   ]
  },
  {
   "cell_type": "markdown",
   "metadata": {},
   "source": [
    "Then send the GET request to the server and wait for response."
   ]
  },
  {
   "cell_type": "code",
   "execution_count": 34,
   "metadata": {},
   "outputs": [
    {
     "data": {
      "text/plain": [
       "200"
      ]
     },
     "execution_count": 34,
     "metadata": {},
     "output_type": "execute_result"
    }
   ],
   "source": [
    "http = urllib3.PoolManager()\n",
    "response = http.request('GET',url)\n",
    "response.status"
   ]
  },
  {
   "cell_type": "markdown",
   "metadata": {},
   "source": [
    "The response status returns 200, which means 'OK', 'Request fulfilled, document follows'."
   ]
  },
  {
   "cell_type": "markdown",
   "metadata": {},
   "source": [
    "Then use BeatifulSoup to extract all the a elements from the DOM and store in a list."
   ]
  },
  {
   "cell_type": "code",
   "execution_count": 35,
   "metadata": {
    "collapsed": true
   },
   "outputs": [],
   "source": [
    "soup=BeautifulSoup(response.data, \"lxml\")\n",
    "links = soup.find_all('a')"
   ]
  },
  {
   "cell_type": "markdown",
   "metadata": {},
   "source": [
    "Now take a look at the links."
   ]
  },
  {
   "cell_type": "code",
   "execution_count": 36,
   "metadata": {},
   "outputs": [
    {
     "data": {
      "text/plain": [
       "[<a href=\"/\"><div class=\"pbox-logo\"></div></a>,\n",
       " <a href=\"/createaccount\">Sign up</a>,\n",
       " <a href=\"/login\"><img alt=\"Login\" src=\"https://d28avw9ny3vgf2.cloudfront.net/application/_img/salesite/common/login.png\"/>Login</a>,\n",
       " <a href=\"/fr\"><div class=\"flag fr\"></div></a>,\n",
       " <a href=\"/de\"><div class=\"flag de\"></div></a>,\n",
       " <a href=\"/es\"><div class=\"flag es\"></div></a>,\n",
       " <a href=\"/it\"><div class=\"flag it\"></div></a>,\n",
       " <a href=\"/pt\"><div class=\"flag pt\"></div></a>,\n",
       " <a href=\"/nl\"><div class=\"flag nl\"></div></a>,\n",
       " <a href=\"/se\"><div class=\"flag se\"></div></a>,\n",
       " <a href=\"/no\"><div class=\"flag no\"></div></a>,\n",
       " <a href=\"/dk\"><div class=\"flag dk\"></div></a>,\n",
       " <a href=\"/cn\"><div class=\"flag cn\"></div></a>,\n",
       " <a href=\"/jp\"><div class=\"flag jp\"></div></a>,\n",
       " <a href=\"/kr\"><div class=\"flag kr\"></div></a>,\n",
       " <a href=\"/ru\"><div class=\"flag ru\"></div></a>,\n",
       " <a href=\"/fi\"><div class=\"flag fi\"></div></a>,\n",
       " <a href=\"/hu\"><div class=\"flag hu\"></div></a>,\n",
       " <a href=\"/pl\"><div class=\"flag pl\"></div></a>,\n",
       " <a href=\"/tr\"><div class=\"flag tr\"></div></a>,\n",
       " <a href=\"/gr\"><div class=\"flag gr\"></div></a>,\n",
       " <a href=\"/vn\"><div class=\"flag vn\"></div></a>,\n",
       " <a href=\"/id\"><div class=\"flag id\"></div></a>,\n",
       " <a class=\"active\" href=\"/\">Overview</a>,\n",
       " <a href=\"/examples\">Examples</a>,\n",
       " <a href=\"/pricing\">Pricing</a>,\n",
       " <a href=\"/learn\">Learn &amp; support</a>,\n",
       " <a href=\"/news\">News &amp; Blog</a>,\n",
       " <a href=\"/students\">Students</a>,\n",
       " <a class=\"active\" href=\"/\">Overview</a>,\n",
       " <a href=\"/examples\">Examples</a>,\n",
       " <a href=\"/pricing\">Pricing</a>,\n",
       " <a href=\"/login\">Login</a>,\n",
       " <a href=\"/learn\">Learn &amp; support</a>,\n",
       " <a href=\"/news\">News &amp; Blog</a>,\n",
       " <a href=\"/students\">Students</a>,\n",
       " <a href=\"http://www.adamkrollphotography.com/\" rel=\"nofollow\" target=\"_blank\"><img alt=\"online portfolio website\" src=\"https://d1qxsigluyuaz5.cloudfront.net/application/_img/saleplatform/medium/showcase/45183.jpg\"/></a>,\n",
       " <a href=\"http://www.ryanlilburn.com/\" rel=\"nofollow\" target=\"_blank\"><img alt=\"online portfolio website\" src=\"https://d28avw9ny3vgf2.cloudfront.net/application/_img/showcase/546/ryan2.jpg\"/></a>,\n",
       " <a href=\"http://www.dpjoe.com/\" rel=\"nofollow\" target=\"_blank\"><img alt=\"online portfolio website\" src=\"https://d1qxsigluyuaz5.cloudfront.net/application/_img/saleplatform/medium/showcase/45590.jpg\"/></a>,\n",
       " <a href=\"http://www.eyanhigginsjones.com/\" rel=\"nofollow\" target=\"_blank\"><img alt=\"online portfolio website\" src=\"https://d28avw9ny3vgf2.cloudfront.net/application/_img/showcase/546/400007.jpg\"/></a>,\n",
       " <a href=\"http://www.martinstranka.com/\" rel=\"nofollow\" target=\"_blank\"><img alt=\"online portfolio website\" src=\"https://d28avw9ny3vgf2.cloudfront.net/application/_img/showcase/546/405980.jpg\"/></a>,\n",
       " <a href=\"http://www.barekoza.no/\" rel=\"nofollow\" target=\"_blank\"><img alt=\"online portfolio website\" src=\"https://d28avw9ny3vgf2.cloudfront.net/application/_img/showcase/546/405972.jpg\"/></a>,\n",
       " <a href=\"http://www.lightmare.net/\" rel=\"nofollow\" target=\"_blank\"><img alt=\"online portfolio website\" src=\"https://d1qxsigluyuaz5.cloudfront.net/application/_img/saleplatform/medium/showcase/45907.jpg\"/></a>,\n",
       " <a href=\"http://www.sebastianakesson.com/\" rel=\"nofollow\" target=\"_blank\"><img alt=\"online portfolio website\" src=\"https://d28avw9ny3vgf2.cloudfront.net/application/_img/showcase/546/403873.jpg\"/></a>,\n",
       " <a href=\"http://www.aaronpedersen.co/\" rel=\"nofollow\" target=\"_blank\"><img alt=\"online portfolio website\" src=\"https://d28avw9ny3vgf2.cloudfront.net/application/_img/showcase/546/400262.jpg\"/></a>,\n",
       " <a href=\"http://www.aurelienlongo.com/\" rel=\"nofollow\" target=\"_blank\"><img alt=\"online portfolio website\" src=\"https://d28avw9ny3vgf2.cloudfront.net/application/_img/showcase/546/400491.jpg\"/></a>,\n",
       " <a href=\"http://www.jefferyricht.com/\" rel=\"nofollow\" target=\"_blank\"><img src=\"https://d28avw9ny3vgf2.cloudfront.net/application/_img/showcase/546/400983.jpg\"/></a>,\n",
       " <a href=\"http://www.loveonphotography.com/\" rel=\"nofollow\" target=\"_blank\"><img alt=\"online portfolio website\" src=\"https://d1qxsigluyuaz5.cloudfront.net/application/_img/saleplatform/medium/showcase/56740.jpg\"/></a>,\n",
       " <a href=\"/createaccount\">Sign up</a>,\n",
       " <a href=\"/createaccount\">Login</a>,\n",
       " <a href=\"/examples\">Examples</a>,\n",
       " <a href=\"/pricing\">Pricing</a>,\n",
       " <a href=\"/students\">Students</a>,\n",
       " <a href=\"/photography-portfolio\">Photographers</a>,\n",
       " <a href=\"/designer-portfolio\">Designers</a>,\n",
       " <a href=\"/art-portfolio\">Artists</a>,\n",
       " <a href=\"/makeup-artist-website\">Makeup artists</a>,\n",
       " <a href=\"/model-website\">Models</a>,\n",
       " <a href=\"/architect-portfolio\">Architects</a>,\n",
       " <a href=\"/learn\">Learn &amp; support</a>,\n",
       " <a href=\"/news\">News &amp; Blog</a>,\n",
       " <a href=\"/about\">About &amp; Contact</a>,\n",
       " <a href=\"/press\">Press</a>,\n",
       " <a href=\"/license\">General terms</a>,\n",
       " <a href=\"https://www.findcreatives.com/\" target=\"_blank\">Find Creatives</a>,\n",
       " <a href=\"https://www.facebook.com/portfoliobox\" target=\"_blank\"><span class=\"icon icon-facebook\"></span></a>,\n",
       " <a href=\"https://twitter.com/portfoliobox\" target=\"_blank\"><span class=\"icon icon-twitter\"></span></a>,\n",
       " <a href=\"https://plus.google.com/103476120225460848054/posts\" target=\"_blank\"><span class=\"icon icon-googleplus\"></span></a>,\n",
       " <a href=\"http://www.pinterest.com/portfoliobox/\" target=\"_blank\"><span class=\"icon icon-pinterest\"></span></a>,\n",
       " <a href=\"http://flickr.com/portfoliobox\" target=\"_blank\"><span class=\"icon icon-flickr\"></span></a>,\n",
       " <a href=\"https://instagram.com/portfoliobox/\" target=\"_blank\"><span class=\"icon icon-instagram\"></span></a>,\n",
       " <a href=\"https://www.linkedin.com/company/portfoliobox\" target=\"_blank\"><span class=\"icon icon-linkedin\"></span></a>,\n",
       " <a class=\"service openPopUp\">Services</a>,\n",
       " <a class=\"icon icon-facebook facebookIcon\" href=\"https://www.facebook.com/portfoliobox\" target=\"_blank\"></a>,\n",
       " <a class=\"icon icon-twitter\" href=\"https://twitter.com/portfoliobox\" target=\"_blank\"></a>,\n",
       " <a class=\"icon icon-instagram\" href=\"https://instagram.com/portfoliobox/\" target=\"_blank\"></a>,\n",
       " <a class=\"icon icon-googleplus\" href=\"https://plus.google.com/103476120225460848054/posts\" target=\"_blank\"></a>,\n",
       " <a class=\"icon icon-pinterest\" href=\"http://www.pinterest.com/portfoliobox/\" target=\"_blank\"></a>,\n",
       " <a class=\"icon icon-flickr\" href=\"http://flickr.com/portfoliobox\" target=\"_blank\"></a>,\n",
       " <a class=\"icon icon-linkedin\" href=\"https://www.linkedin.com/company/portfoliobox\" target=\"_blank\"></a>,\n",
       " <a href=\"/createaccount\">\n",
       " <div class=\"btns btn-blue\">Get started</div>\n",
       " </a>,\n",
       " <a href=\"https://www.findcreatives.com/signup\" target=\"_blank\">\n",
       " <div class=\"btns btn-orange\">Join Find Creatives</div>\n",
       " </a>]"
      ]
     },
     "execution_count": 36,
     "metadata": {},
     "output_type": "execute_result"
    }
   ],
   "source": [
    "links"
   ]
  },
  {
   "cell_type": "markdown",
   "metadata": {},
   "source": [
    "Here we only consider external links. Obviously, external links start with \"http://\", and there are also a lot of internal links."
   ]
  },
  {
   "cell_type": "markdown",
   "metadata": {},
   "source": [
    "Now, let's see the url of all the links."
   ]
  },
  {
   "cell_type": "code",
   "execution_count": 37,
   "metadata": {
    "scrolled": false
   },
   "outputs": [
    {
     "name": "stdout",
     "output_type": "stream",
     "text": [
      "url: /\n",
      "url: /createaccount\n",
      "url: /login\n",
      "url: /fr\n",
      "url: /de\n",
      "url: /es\n",
      "url: /it\n",
      "url: /pt\n",
      "url: /nl\n",
      "url: /se\n",
      "url: /no\n",
      "url: /dk\n",
      "url: /cn\n",
      "url: /jp\n",
      "url: /kr\n",
      "url: /ru\n",
      "url: /fi\n",
      "url: /hu\n",
      "url: /pl\n",
      "url: /tr\n",
      "url: /gr\n",
      "url: /vn\n",
      "url: /id\n",
      "url: /\n",
      "url: /examples\n",
      "url: /pricing\n",
      "url: /learn\n",
      "url: /news\n",
      "url: /students\n",
      "url: /\n",
      "url: /examples\n",
      "url: /pricing\n",
      "url: /login\n",
      "url: /learn\n",
      "url: /news\n",
      "url: /students\n",
      "url: http://www.adamkrollphotography.com/\n",
      "url: http://www.ryanlilburn.com/\n",
      "url: http://www.dpjoe.com/\n",
      "url: http://www.eyanhigginsjones.com/\n",
      "url: http://www.martinstranka.com/\n",
      "url: http://www.barekoza.no/\n",
      "url: http://www.lightmare.net/\n",
      "url: http://www.sebastianakesson.com/\n",
      "url: http://www.aaronpedersen.co/\n",
      "url: http://www.aurelienlongo.com/\n",
      "url: http://www.jefferyricht.com/\n",
      "url: http://www.loveonphotography.com/\n",
      "url: /createaccount\n",
      "url: /createaccount\n",
      "url: /examples\n",
      "url: /pricing\n",
      "url: /students\n",
      "url: /photography-portfolio\n",
      "url: /designer-portfolio\n",
      "url: /art-portfolio\n",
      "url: /makeup-artist-website\n",
      "url: /model-website\n",
      "url: /architect-portfolio\n",
      "url: /learn\n",
      "url: /news\n",
      "url: /about\n",
      "url: /press\n",
      "url: /license\n",
      "url: https://www.findcreatives.com/\n",
      "url: https://www.facebook.com/portfoliobox\n",
      "url: https://twitter.com/portfoliobox\n",
      "url: https://plus.google.com/103476120225460848054/posts\n",
      "url: http://www.pinterest.com/portfoliobox/\n",
      "url: http://flickr.com/portfoliobox\n",
      "url: https://instagram.com/portfoliobox/\n",
      "url: https://www.linkedin.com/company/portfoliobox\n",
      "url: https://www.facebook.com/portfoliobox\n",
      "url: https://twitter.com/portfoliobox\n",
      "url: https://instagram.com/portfoliobox/\n",
      "url: https://plus.google.com/103476120225460848054/posts\n",
      "url: http://www.pinterest.com/portfoliobox/\n",
      "url: http://flickr.com/portfoliobox\n",
      "url: https://www.linkedin.com/company/portfoliobox\n",
      "url: /createaccount\n",
      "url: https://www.findcreatives.com/signup\n"
     ]
    }
   ],
   "source": [
    "for a in soup.find_all('a', href=True):print (\"url:\",a['href'])"
   ]
  },
  {
   "cell_type": "markdown",
   "metadata": {},
   "source": [
    "Now, let's create a new excel object using xlwt library, and create a new sheet."
   ]
  },
  {
   "cell_type": "code",
   "execution_count": 50,
   "metadata": {
    "collapsed": true
   },
   "outputs": [],
   "source": [
    "book = xlwt.Workbook(encoding='utf-8', style_compression=0)"
   ]
  },
  {
   "cell_type": "code",
   "execution_count": 51,
   "metadata": {
    "collapsed": true
   },
   "outputs": [],
   "source": [
    "sheet = book.add_sheet('links', cell_overwrite_ok=True)"
   ]
  },
  {
   "cell_type": "markdown",
   "metadata": {},
   "source": [
    "In this sheet, there are 4 column, which are url, texture description, validation of the link, and datetime of the last check. Use sheet.write to write into the object. The first parameter is the row number. The second is the column number. And the third is the content."
   ]
  },
  {
   "cell_type": "code",
   "execution_count": 52,
   "metadata": {
    "collapsed": true
   },
   "outputs": [],
   "source": [
    "sheet.write(0, 0, 'url')\n",
    "sheet.write(0, 1, 'Textual Description')\n",
    "sheet.write(0, 2, 'Valid')\n",
    "sheet.write(0, 3, 'Datetime')"
   ]
  },
  {
   "cell_type": "markdown",
   "metadata": {},
   "source": [
    "Now, we need to loop through every element in the list to judge whether it is an external link. If so, we send a GET request to the url and wait for a response status. When we receive 200, it means the link is valid. However, if it is  not external link, we pass the element. In both cases, we are going to write the information into the workbook object we just created."
   ]
  },
  {
   "cell_type": "markdown",
   "metadata": {},
   "source": [
    "Here comes the function definition:"
   ]
  },
  {
   "cell_type": "code",
   "execution_count": 53,
   "metadata": {
    "collapsed": true
   },
   "outputs": [],
   "source": [
    "def checkValid(link,i):  \n",
    "    valid = \"True\"\n",
    "    invalid = \"False\"\n",
    "    if http.request('GET',link['href']).status == 200:\n",
    "        print(link['href'], valid)\n",
    "        sheet.write(i,0,link['href'])\n",
    "        sheet.write(i,1,'url:'+link['href'])\n",
    "        sheet.write(i,2,valid)\n",
    "        sheet.write(i,3,datetime.now())\n",
    "    else:\n",
    "        print(link['href'], invalid)\n",
    "        sheet.write(i,0,link['href'])\n",
    "        sheet.write(i,1,'url:'+link['href'])\n",
    "        sheet.write(i,2,invalid)\n",
    "        sheet.write(i,3,datetime.now())"
   ]
  },
  {
   "cell_type": "markdown",
   "metadata": {},
   "source": [
    "In a for loop that traverses all the links, call the function."
   ]
  },
  {
   "cell_type": "code",
   "execution_count": 54,
   "metadata": {
    "scrolled": false
   },
   "outputs": [
    {
     "name": "stdout",
     "output_type": "stream",
     "text": [
      "http://www.adamkrollphotography.com/ True\n",
      "http://www.ryanlilburn.com/ True\n",
      "http://www.dpjoe.com/ True\n",
      "http://www.eyanhigginsjones.com/ True\n",
      "http://www.martinstranka.com/ True\n",
      "http://www.barekoza.no/ True\n",
      "http://www.lightmare.net/ True\n",
      "http://www.sebastianakesson.com/ True\n",
      "http://www.aaronpedersen.co/ True\n",
      "http://www.aurelienlongo.com/ True\n",
      "http://www.jefferyricht.com/ True\n",
      "http://www.loveonphotography.com/ True\n",
      "https://www.findcreatives.com/ True\n",
      "https://www.facebook.com/portfoliobox True\n",
      "https://twitter.com/portfoliobox True\n",
      "https://plus.google.com/103476120225460848054/posts True\n",
      "http://www.pinterest.com/portfoliobox/ True\n",
      "http://flickr.com/portfoliobox True\n",
      "https://instagram.com/portfoliobox/ True\n",
      "https://www.linkedin.com/company/portfoliobox False\n",
      "https://www.facebook.com/portfoliobox True\n",
      "https://twitter.com/portfoliobox True\n",
      "https://instagram.com/portfoliobox/ True\n",
      "https://plus.google.com/103476120225460848054/posts True\n",
      "http://www.pinterest.com/portfoliobox/ True\n",
      "http://flickr.com/portfoliobox True\n",
      "https://www.linkedin.com/company/portfoliobox False\n",
      "https://www.findcreatives.com/signup True\n"
     ]
    }
   ],
   "source": [
    "i=1\n",
    "for link in soup.find_all('a', href=True):\n",
    "    if link['href'].startswith('http'):\n",
    "        checkValid(link,i)\n",
    "        i = i+1"
   ]
  },
  {
   "cell_type": "markdown",
   "metadata": {},
   "source": [
    "Finally, save the workbook object to file."
   ]
  },
  {
   "cell_type": "code",
   "execution_count": 55,
   "metadata": {
    "collapsed": true
   },
   "outputs": [],
   "source": [
    "book.save('links.xls')"
   ]
  },
  {
   "cell_type": "markdown",
   "metadata": {},
   "source": [
    "Now an excel file can be found in the dir of the notebook."
   ]
  },
  {
   "cell_type": "code",
   "execution_count": null,
   "metadata": {
    "collapsed": true
   },
   "outputs": [],
   "source": []
  }
 ],
 "metadata": {
  "kernelspec": {
   "display_name": "Python 3",
   "language": "python",
   "name": "python3"
  },
  "language_info": {
   "codemirror_mode": {
    "name": "ipython",
    "version": 3
   },
   "file_extension": ".py",
   "mimetype": "text/x-python",
   "name": "python",
   "nbconvert_exporter": "python",
   "pygments_lexer": "ipython3",
   "version": "3.6.3"
  }
 },
 "nbformat": 4,
 "nbformat_minor": 2
}
